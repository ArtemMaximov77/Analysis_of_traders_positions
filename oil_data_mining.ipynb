{
  "nbformat": 4,
  "nbformat_minor": 0,
  "metadata": {
    "colab": {
      "provenance": [],
      "collapsed_sections": [
        "rxM5c2wIp09K"
      ],
      "authorship_tag": "ABX9TyMzA77bL2xy/5r7mhCSaecx",
      "include_colab_link": true
    },
    "kernelspec": {
      "name": "python3",
      "display_name": "Python 3"
    },
    "language_info": {
      "name": "python"
    }
  },
  "cells": [
    {
      "cell_type": "markdown",
      "metadata": {
        "id": "view-in-github",
        "colab_type": "text"
      },
      "source": [
        "<a href=\"https://colab.research.google.com/github/ArtemMaximov77/Analysis_of_traders_positions/blob/main/oil_data_mining.ipynb\" target=\"_parent\"><img src=\"https://colab.research.google.com/assets/colab-badge.svg\" alt=\"Open In Colab\"/></a>"
      ]
    },
    {
      "cell_type": "markdown",
      "source": [
        ">[Oil Data Mining](#scrollTo=8pa13kemcGSb)\n",
        "\n",
        ">>[Загрузка данных с CFTC, позиции по WTI](#scrollTo=aovEb7xkUgcZ)\n",
        "\n",
        ">>>[Этот блок ячеек можно не выполнять, а перейти сразу к следующему](#scrollTo=dFFS7KUSyZ2Q)\n",
        "\n",
        ">>>[Загрузка готового фрейма данных](#scrollTo=1PXVVYyoyrCq)\n",
        "\n",
        ">>[Загрузка котировок нефти WTI](#scrollTo=rxM5c2wIp09K)\n",
        "\n",
        ">>[Загрузка данных с ICE, позиции по Brent](#scrollTo=ogb1ZHs6GkeO)\n",
        "\n",
        ">>[Загрузка котировок нефти Brent](#scrollTo=YPm4UO199hRG)\n",
        "\n",
        ">>[Загрузка данных с MOEX](#scrollTo=Sbj8gdD0MdE8)\n",
        "\n",
        ">>[Скачать готовые данные](#scrollTo=7QXjdPwurOI6)\n",
        "\n"
      ],
      "metadata": {
        "colab_type": "toc",
        "id": "7OzAIxP1PsVk"
      }
    },
    {
      "cell_type": "markdown",
      "source": [
        "# Oil Data Mining"
      ],
      "metadata": {
        "id": "8pa13kemcGSb"
      }
    },
    {
      "cell_type": "code",
      "source": [
        "import pandas as pd\n",
        "\n",
        "import plotly.graph_objects as go\n",
        "from plotly.subplots import make_subplots\n",
        "\n",
        "import tqdm"
      ],
      "metadata": {
        "id": "Em1CyTjVPqvZ"
      },
      "execution_count": 35,
      "outputs": []
    },
    {
      "cell_type": "markdown",
      "source": [
        "## Загрузка данных с CFTC, позиции по WTI"
      ],
      "metadata": {
        "id": "aovEb7xkUgcZ"
      }
    },
    {
      "cell_type": "markdown",
      "source": [
        "Для получения данных по WTI будем использовать сайт [Commitments of Traders](https://www.cftc.gov/)"
      ],
      "metadata": {
        "id": "9OWHtTI0rnTW"
      }
    },
    {
      "cell_type": "markdown",
      "source": [
        "### Этот блок ячеек можно не выполнять, а перейти сразу к следующему"
      ],
      "metadata": {
        "id": "dFFS7KUSyZ2Q"
      }
    },
    {
      "cell_type": "code",
      "source": [
        "url = 'https://www.cftc.gov/files/dea/history/fut_disagg_xls_hist_2006_2016.zip'\n",
        "! wget $url\n",
        "! unzip /content/fut_disagg_xls_hist_2006_2016.zip\n",
        "df = pd.read_excel('/content/F_DisAgg06_15.xls')\n",
        "! rm *zip, *xls"
      ],
      "metadata": {
        "id": "ga7g3CaYPq1U"
      },
      "execution_count": null,
      "outputs": []
    },
    {
      "cell_type": "code",
      "source": [
        "# Для нефти WTI код 067651\n",
        "df_wti = df[df['CFTC_Contract_Market_Code'] == '067651']\n",
        "# Удалим ненужные столбцы, начиная с 23\n",
        "df_wti = df_wti.drop(df.iloc[:, 23:], axis=1)\n",
        "# Удалим ненужные колонки\n",
        "df_wti = df_wti.drop(['Market_and_Exchange_Names', 'As_of_Date_In_Form_YYMMDD',\n",
        "                      'CFTC_Contract_Market_Code', 'CFTC_Market_Code', 'CFTC_Region_Code',\n",
        "                      'CFTC_Commodity_Code', 'Tot_Rept_Positions_Long_All',\n",
        "                      'Tot_Rept_Positions_Short_All'], axis=1)\n",
        "# Отредактируем названия колонок\n",
        "df_wti.rename(columns={'Report_Date_as_MM_DD_YYYY': 'date',\n",
        "                       'Open_Interest_All': 'oi',\n",
        "                       'Prod_Merc_Positions_Long_ALL': 'Prod_Merc_Long',\n",
        "                       'Prod_Merc_Positions_Short_ALL': 'Prod_Merc_Short',\n",
        "                       'Swap_Positions_Long_All': 'Swap_Long',\n",
        "                       'Swap__Positions_Short_All': 'Swap_Short',\n",
        "                       'Swap__Positions_Spread_All': 'Swap_Spread',\n",
        "                       'M_Money_Positions_Long_ALL': 'M_Money_Long',\n",
        "                       'M_Money_Positions_Short_ALL': 'M_Money_Short',\n",
        "                       'M_Money_Positions_Spread_ALL': 'M_Money_Spread',\n",
        "                       'Other_Rept_Positions_Long_ALL': 'Other_Rept_Long',\n",
        "                       'Other_Rept_Positions_Short_ALL': 'Other_Rept_Short',\n",
        "                       'Other_Rept_Positions_Spread_ALL': 'Other_Rept_Spread',\n",
        "                       'NonRept_Positions_Long_All': 'NonRept_Long',\n",
        "                       'NonRept_Positions_Short_All': 'NonRept_Short'}, inplace=True)\n",
        "df_wti.columns = df_wti.columns.str.lower()"
      ],
      "metadata": {
        "id": "oKWyexGIWjlN"
      },
      "execution_count": null,
      "outputs": []
    },
    {
      "cell_type": "code",
      "source": [
        "df_wti = df_wti.sort_values('date')"
      ],
      "metadata": {
        "id": "wTnZvVtah5Fu"
      },
      "execution_count": null,
      "outputs": []
    },
    {
      "cell_type": "code",
      "source": [
        "df_wti.head()"
      ],
      "metadata": {
        "id": "hMD4BcAasKdg"
      },
      "execution_count": null,
      "outputs": []
    },
    {
      "cell_type": "code",
      "source": [
        "!mkdir COT_WTI"
      ],
      "metadata": {
        "id": "rrnNX5Jzj_Xm"
      },
      "execution_count": null,
      "outputs": []
    },
    {
      "cell_type": "code",
      "source": [
        "df_wti.to_csv('COT_WTI/COT_WTI.csv', index=False)"
      ],
      "metadata": {
        "id": "vq3U8a5nfB2e"
      },
      "execution_count": null,
      "outputs": []
    },
    {
      "cell_type": "code",
      "execution_count": null,
      "metadata": {
        "id": "RDYr2jdzPc2A"
      },
      "outputs": [],
      "source": [
        "# Делаем тоже самое с остальными файлами\n",
        "years = ['2016', '2017', '2018', '2019', '2020', '2021', '2022', '2023']\n",
        "for year in years:\n",
        "    url_zip = 'https://www.cftc.gov/files/dea/history/fut_disagg_xls_' + year + '.zip'\n",
        "    !wget $url_zip # получаем zip-файл\n",
        "    url_unzip = '/content/fut_disagg_xls_' + year + '.zip'\n",
        "    !unzip $url_unzip # распаковка в корень коллаба\n",
        "    df = pd.read_excel('f_year.xls')\n",
        "    ! rm *\n",
        "    df_wti = df[df['CFTC_Contract_Market_Code'] == '067651']\n",
        "    df_wti = df_wti.drop(df.iloc[:, 23:], axis=1)\n",
        "    df_wti = df_wti.drop(['Market_and_Exchange_Names', 'As_of_Date_In_Form_YYMMDD',\n",
        "                      'CFTC_Contract_Market_Code', 'CFTC_Market_Code', 'CFTC_Region_Code',\n",
        "                      'CFTC_Commodity_Code', 'Tot_Rept_Positions_Long_All',\n",
        "                      'Tot_Rept_Positions_Short_All'], axis=1)\n",
        "    df_wti = df_wti.sort_values('Report_Date_as_MM_DD_YYYY')\n",
        "    df_wti.to_csv('COT_WTI/COT_WTI.csv', mode='a', header=False, index = False)\n",
        "    "
      ]
    },
    {
      "cell_type": "markdown",
      "source": [
        "### Загрузка готового фрейма данных"
      ],
      "metadata": {
        "id": "1PXVVYyoyrCq"
      }
    },
    {
      "cell_type": "code",
      "source": [
        "url = '''https://raw.githubusercontent.com/ArtemMaximov77/Analysis_of_traders_positions/\\\n",
        "main/Disaggregated%20Futures%20Only%20Reports/COT_WTI.csv'''\n",
        "df_wti = pd.read_csv(url)"
      ],
      "metadata": {
        "id": "LB1iG2JDq4f3"
      },
      "execution_count": 36,
      "outputs": []
    },
    {
      "cell_type": "code",
      "source": [
        "df_wti['date'] = pd.to_datetime(df_wti['date'], format='%Y-%m-%d')"
      ],
      "metadata": {
        "id": "uxSptF_D23B8"
      },
      "execution_count": 37,
      "outputs": []
    },
    {
      "cell_type": "code",
      "source": [
        "df_wti.plot(x='date', y='oi');"
      ],
      "metadata": {
        "colab": {
          "base_uri": "https://localhost:8080/",
          "height": 437
        },
        "id": "YNE1aFUarCih",
        "outputId": "94b2bc42-f62e-411b-d022-4d3d3c68a9c2"
      },
      "execution_count": null,
      "outputs": [
        {
          "output_type": "display_data",
          "data": {
            "text/plain": [
              "<Figure size 640x480 with 1 Axes>"
            ],
            "image/png": "[encoded data removed]"
          },
          "metadata": {}
        }
      ]
    },
    {
      "cell_type": "markdown",
      "source": [
        "## Загрузка котировок нефти WTI"
      ],
      "metadata": {
        "id": "rxM5c2wIp09K"
      }
    },
    {
      "cell_type": "markdown",
      "source": [
        "Для получения котировок по нефти использован сайт [EIA](https://www.eia.gov/)"
      ],
      "metadata": {
        "id": "6FcfZhR4tlzd"
      }
    },
    {
      "cell_type": "code",
      "source": [
        "# Архив котировок получен в ручную и помещен в github\n",
        "url = '''https://raw.githubusercontent.com/ArtemMaximov77/Analysis_of_traders_positions/\\\n",
        "main/Disaggregated%20Futures%20Only%20Reports/WTI_Spot_Price.csv'''\n",
        "df_wti_price = pd.read_csv(url, skiprows=[0, 1, 2, 3, 4], names=['date', 'price_wti'])"
      ],
      "metadata": {
        "id": "90Be72kwfHto"
      },
      "execution_count": 38,
      "outputs": []
    },
    {
      "cell_type": "code",
      "source": [
        "df_wti_price['date'] = pd.to_datetime(df_wti_price['date'], format='%m/%d/%Y')\n",
        "df_wti_price['date'] = df_wti_price['date'].dt.strftime('%Y-%m-%d')\n",
        "df_wti_price['date'] = pd.to_datetime(df_wti_price['date'], format='%Y-%m-%d')"
      ],
      "metadata": {
        "id": "rT7bZcmbkrXi"
      },
      "execution_count": 39,
      "outputs": []
    },
    {
      "cell_type": "code",
      "source": [
        "data_wti = df_wti.merge(df_wti_price, on='date')\n",
        "# Потеряли 4 строки!"
      ],
      "metadata": {
        "id": "g9aSVCQym_JD"
      },
      "execution_count": 40,
      "outputs": []
    },
    {
      "cell_type": "code",
      "source": [
        "fig = make_subplots(specs=[[{\"secondary_y\": True}]])\n",
        "fig.add_trace(\n",
        "    go.Scatter(x=data_wti['date'], y=data_wti['oi'], name=\"OI\"),\n",
        "    secondary_y=False,\n",
        ")\n",
        "\n",
        "fig.add_trace(\n",
        "    go.Scatter(x=data_wti['date'], y=data_wti['price_wti'], name=\"price_WTI\"),\n",
        "    secondary_y=True,\n",
        ")\n",
        "fig.update_layout(\n",
        "    title_text=\"Изменение открытых позиций и цены WTI\"\n",
        ")\n",
        "fig.add_vrect(x0=\"2008-07-01\", x1=\"2008-12-22\", \n",
        "              annotation_text=\"-78%\", annotation_position=\"top left\",\n",
        "              fillcolor=\"red\", opacity=0.25, line_width=0)\n",
        "fig.add_vrect(x0=\"2014-06-17\", x1=\"2016-02-09\", \n",
        "              annotation_text=\"-73%\", annotation_position=\"top left\",\n",
        "              fillcolor=\"red\", opacity=0.25, line_width=0)\n",
        "fig.add_vrect(x0=\"2020-01-07\", x1=\"2020-04-21\", \n",
        "              annotation_text=\"-86%\", annotation_position=\"top left\",\n",
        "              fillcolor=\"red\", opacity=0.25, line_width=0)\n",
        "fig.add_vrect(x0=\"2022-06-07\", x1=\"2023-05-30\", \n",
        "              annotation_text=\"-42%\", annotation_position=\"top left\",\n",
        "              fillcolor=\"red\", opacity=0.25, line_width=0)\n",
        "\n",
        "fig.update_xaxes(title_text=\"Дата\")\n",
        "fig.update_yaxes(title_text=\"<b>OI</b>\", secondary_y=False)\n",
        "fig.update_yaxes(title_text=\"<b>price_WTI</b>\", secondary_y=True)\n",
        "\n",
        "fig.show()"
      ],
      "metadata": {
        "colab": {
          "base_uri": "https://localhost:8080/",
          "height": 542
        },
        "id": "CiSHOeCBm-md",
        "outputId": "7d9e9b0c-b99d-479e-adca-5e7510159b18"
      },
      "execution_count": 41,
      "outputs": [
        {
          "output_type": "display_data",
          "data": {
            "text/html": [
              "<html>\n",
              "<head><meta charset=\"utf-8\" /></head>\n",
              "<body>\n",
              "    <div>            <script src=\"https://cdnjs.cloudflare.com/ajax/libs/mathjax/2.7.5/MathJax.js?config=TeX-AMS-MML_SVG\"></script><script type=\"text/javascript\">if (window.MathJax && window.MathJax.Hub && window.MathJax.Hub.Config) {window.MathJax.Hub.Config({SVG: {font: \"STIX-Web\"}});}</script>                <script type=\"text/javascript\">window.PlotlyConfig = {MathJaxConfig: 'local'};</script>\n",
              "        <script src=\"https://cdn.plot.ly/plotly-2.18.2.min.js\"></script>                <div id=\"ed177904-cdd8-4cac-9b27-0ca39853d0f3\" class=\"plotly-graph-div\" style=\"height:525px; width:100%;\"></div>            <script type=\"text/javascript\">                                    window.PLOTLYENV=window.PLOTLYENV || {};                                    if (document.getElementById(\"ed177904-cdd8-4cac-9b27-0ca39853d0f3\")) {                    Plotly.newPlot(                        \"ed177904-cdd8-4cac-9b27-0ca39853d0f3\",                        [{\"name\":\"OI\",\"x\":[\"2006-06-13T00:00:00\",\"2006-06-20T00:00:00\",\"2006-06-27T00:00:00\",\"2006-07-11T00:00:00\",\"2006-07-18T00:00:00\",\"2006-07-25T00:00:00\",\"2006-08-01T00:00:00\",\"2006-08-08T00:00:00\",\"2006-08-15T00:00:00\",\"2006-08-22T00:00:00\",\"2006-08-29T00:00:00\",\"2006-09-05T00:00:00\",\"2006-09-12T00:00:00\",\"2006-09-19T00:00:00\",\"2006-09-26T00:00:00\",\"2006-10-03T00:00:00\",\"2006-10-10T00:00:00\",\"2006-10-17T00:00:00\",\"2006-10-24T00:00:00\",\"2006-10-31T00:00:00\",\"2006-11-07T00:00:00\",\"2006-11-14T00:00:00\",\"2006-11-21T00:00:00\",\"2006-11-28T00:00:00\",\"2006-12-05T00:00:00\",\"2006-12-12T00:00:00\",\"2006-12-19T00:00:00\",\"2006-12-26T00:00:00\",\"2007-01-03T00:00:00\",\"2007-01-09T00:00:00\",\"2007-01-16T00:00:00\",\"2007-01-23T00:00:00\",\"2007-01-30T00:00:00\",\"2007-02-06T00:00:00\",\"2007-02-13T00:00:00\",\"2007-02-20T00:00:00\",\"2007-02-27T00:00:00\",\"2007-03-06T00:00:00\",\"2007-03-13T00:00:00\",\"2007-03-20T00:00:00\",\"2007-03-27T00:00:00\",\"2007-04-03T00:00:00\",\"2007-04-10T00:00:00\",\"2007-04-17T00:00:00\",\"2007-04-24T00:00:00\",\"2007-05-01T00:00:00\",\"2007-05-08T00:00:00\",\"2007-05-15T00:00:00\",\"2007-05-22T00:00:00\",\"2007-05-29T00:00:00\",\"2007-06-05T00:00:00\",\"2007-06-12T00:00:00\",\"2007-06-19T00:00:00\",\"2007-06-26T00:00:00\",\"2007-07-03T00:00:00\",\"2007-07-10T00:00:00\",\"2007-07-17T00:00:00\",\"2007-07-24T00:00:00\",\"2007-07-31T00:00:00\",\"2007-08-07T00:00:00\",\"2007-08-14T00:00:00\",\"2007-08-21T00:00:00\",\"2007-08-28T00:00:00\",\"2007-09-04T00:00:00\",\"2007-09-11T00:00:00\",\"2007-09-18T00:00:00\",\"2007-09-25T00:00:00\",\"2007-10-02T00:00:00\",\"2007-10-09T00:00:00\",\"2007-10-16T00:00:00\",\"2007-10-23T00:00:00\",\"2007-10-30T00:00:00\",\"2007-11-06T00:00:00\",\"2007-11-13T00:00:00\",\"2007-11-20T00:00:00\",\"2007-11-27T00:00:00\",\"2007-12-04T00:00:00\",\"2007-12-11T00:00:00\",\"2007-12-18T00:00:00\",\"2007-12-24T00:00:00\",\"2007-12-31T00:00:00\",\"2008-01-08T00:00:00\",\"2008-01-15T00:00:00\",\"2008-01-22T00:00:00\",\"2008-01-29T00:00:00\",\"2008-02-05T00:00:00\",\"2008-02-12T00:00:00\",\"2008-02-19T00:00:00\",\"2008-02-26T00:00:00\",\"2008-03-04T00:00:00\",\"2008-03-11T00:00:00\",\"2008-03-18T00:00:00\",\"2008-03-25T00:00:00\",\"2008-04-01T00:00:00\",\"2008-04-08T00:00:00\",\"2008-04-15T00:00:00\",\"2008-04-22T00:00:00\",\"2008-04-29T00:00:00\",\"2008-05-06T00:00:00\",\"2008-05-13T00:00:00\",\"2008-05-20T00:00:00\",\"2008-05-27T00:00:00\",\"2008-06-03T00:00:00\",\"2008-06-10T00:00:00\",\"2008-06-17T00:00:00\",\"2008-06-24T00:00:00\",\"2008-07-01T00:00:00\",\"2008-07-08T00:00:00\",\"2008-07-15T00:00:00\",\"2008-07-22T00:00:00\",\"2008-07-29T00:00:00\",\"2008-08-05T00:00:00\",\"2008-08-12T00:00:00\",\"2008-08-19T00:00:00\",\"2008-08-26T00:00:00\",\"2008-09-02T00:00:00\",\"2008-09-09T00:00:00\",\"2008-09-16T00:00:00\",\"2008-09-23T00:00:00\",\"2008-09-30T00:00:00\",\"2008-10-07T00:00:00\",\"2008-10-14T00:00:00\",\"2008-10-21T00:00:00\",\"2008-10-28T00:00:00\",\"2008-11-04T00:00:00\",\"2008-11-11T00:00:00\",\"2008-11-18T00:00:00\",\"2008-11-25T00:00:00\",\"2008-12-02T00:00:00\",\"2008-12-09T00:00:00\",\"2008-12-16T00:00:00\",\"2008-12-22T00:00:00\",\"2008-12-30T00:00:00\",\"2009-01-06T00:00:00\",\"2009-01-13T00:00:00\",\"2009-01-20T00:00:00\",\"2009-01-27T00:00:00\",\"2009-02-03T00:00:00\",\"2009-02-10T00:00:00\",\"2009-02-17T00:00:00\",\"2009-02-24T00:00:00\",\"2009-03-03T00:00:00\",\"2009-03-10T00:00:00\",\"2009-03-17T00:00:00\",\"2009-03-24T00:00:00\",\"2009-03-31T00:00:00\",\"2009-04-07T00:00:00\",\"2009-04-14T00:00:00\",\"2009-04-21T00:00:00\",\"2009-04-28T00:00:00\",\"2009-05-05T00:00:00\",\"2009-05-12T00:00:00\",\"2009-05-19T00:00:00\",\"2009-05-26T00:00:00\",\"2009-06-02T00:00:00\",\"2009-06-09T00:00:00\",\"2009-06-16T00:00:00\",\"2009-06-23T00:00:00\",\"2009-06-30T00:00:00\",\"2009-07-07T00:00:00\",\"2009-07-14T00:00:00\",\"2009-07-21T00:00:00\",\"2009-07-28T00:00:00\",\"2009-08-04T00:00:00\",\"2009-08-11T00:00:00\",\"2009-08-18T00:00:00\",\"2009-08-25T00:00:00\",\"2009-09-01T00:00:00\",\"2009-09-08T00:00:00\",\"2009-09-15T00:00:00\",\"2009-09-22T00:00:00\",\"2009-09-29T00:00:00\",\"2009-10-06T00:00:00\",\"2009-10-13T00:00:00\",\"2009-10-20T00:00:00\",\"2009-10-27T00:00:00\",\"2009-11-03T00:00:00\",\"2009-11-09T00:00:00\",\"2009-11-17T00:00:00\",\"2009-11-24T00:00:00\",\"2009-12-01T00:00:00\",\"2009-12-08T00:00:00\",\"2009-12-15T00:00:00\",\"2009-12-22T00:00:00\",\"2009-12-29T00:00:00\",\"2010-01-05T00:00:00\",\"2010-01-12T00:00:00\",\"2010-01-19T00:00:00\",\"2010-01-26T00:00:00\",\"2010-02-02T00:00:00\",\"2010-02-09T00:00:00\",\"2010-02-16T00:00:00\",\"2010-02-23T00:00:00\",\"2010-03-02T00:00:00\",\"2010-03-09T00:00:00\",\"2010-03-16T00:00:00\",\"2010-03-23T00:00:00\",\"2010-03-30T00:00:00\",\"2010-04-06T00:00:00\",\"2010-04-13T00:00:00\",\"2010-04-20T00:00:00\",\"2010-04-27T00:00:00\",\"2010-05-04T00:00:00\",\"2010-05-11T00:00:00\",\"2010-05-18T00:00:00\",\"2010-05-25T00:00:00\",\"2010-06-01T00:00:00\",\"2010-06-08T00:00:00\",\"2010-06-15T00:00:00\",\"2010-06-22T00:00:00\",\"2010-06-29T00:00:00\",\"2010-07-06T00:00:00\",\"2010-07-13T00:00:00\",\"2010-07-20T00:00:00\",\"2010-07-27T00:00:00\",\"2010-08-03T00:00:00\",\"2010-08-10T00:00:00\",\"2010-08-17T00:00:00\",\"2010-08-24T00:00:00\",\"2010-08-31T00:00:00\",\"2010-09-07T00:00:00\",\"2010-09-14T00:00:00\",\"2010-09-21T00:00:00\",\"2010-09-28T00:00:00\",\"2010-10-05T00:00:00\",\"2010-10-12T00:00:00\",\"2010-10-19T00:00:00\",\"2010-10-26T00:00:00\",\"2010-11-02T00:00:00\",\"2010-11-09T00:00:00\",\"2010-11-16T00:00:00\",\"2010-11-23T00:00:00\",\"2010-11-30T00:00:00\",\"2010-12-07T00:00:00\",\"2010-12-14T00:00:00\",\"2010-12-21T00:00:00\",\"2010-12-28T00:00:00\",\"2011-01-04T00:00:00\",\"2011-01-11T00:00:00\",\"2011-01-18T00:00:00\",\"2011-01-25T00:00:00\",\"2011-02-01T00:00:00\",\"2011-02-08T00:00:00\",\"2011-02-15T00:00:00\",\"2011-02-22T00:00:00\",\"2011-03-01T00:00:00\",\"2011-03-08T00:00:00\",\"2011-03-15T00:00:00\",\"2011-03-22T00:00:00\",\"2011-03-29T00:00:00\",\"2011-04-05T00:00:00\",\"2011-04-12T00:00:00\",\"2011-04-19T00:00:00\",\"2011-04-26T00:00:00\",\"2011-05-03T00:00:00\",\"2011-05-10T00:00:00\",\"2011-05-17T00:00:00\",\"2011-05-24T00:00:00\",\"2011-05-31T00:00:00\",\"2011-06-07T00:00:00\",\"2011-06-14T00:00:00\",\"2011-06-21T00:00:00\",\"2011-06-28T00:00:00\",\"2011-07-05T00:00:00\",\"2011-07-12T00:00:00\",\"2011-07-19T00:00:00\",\"2011-07-26T00:00:00\",\"2011-08-02T00:00:00\",\"2011-08-09T00:00:00\",\"2011-08-16T00:00:00\",\"2011-08-23T00:00:00\",\"2011-08-30T00:00:00\",\"2011-09-06T00:00:00\",\"2011-09-13T00:00:00\",\"2011-09-20T00:00:00\",\"2011-09-27T00:00:00\",\"2011-10-04T00:00:00\",\"2011-10-11T00:00:00\",\"2011-10-18T00:00:00\",\"2011-10-25T00:00:00\",\"2011-11-01T00:00:00\",\"2011-11-08T00:00:00\",\"2011-11-15T00:00:00\",\"2011-11-22T00:00:00\",\"2011-11-29T00:00:00\",\"2011-12-06T00:00:00\",\"2011-12-13T00:00:00\",\"2011-12-20T00:00:00\",\"2011-12-27T00:00:00\",\"2012-01-03T00:00:00\",\"2012-01-10T00:00:00\",\"2012-01-17T00:00:00\",\"2012-01-24T00:00:00\",\"2012-01-31T00:00:00\",\"2012-02-07T00:00:00\",\"2012-02-14T00:00:00\",\"2012-02-21T00:00:00\",\"2012-02-28T00:00:00\",\"2012-03-06T00:00:00\",\"2012-03-13T00:00:00\",\"2012-03-20T00:00:00\",\"2012-03-27T00:00:00\",\"2012-04-03T00:00:00\",\"2012-04-10T00:00:00\",\"2012-04-17T00:00:00\",\"2012-04-24T00:00:00\",\"2012-05-01T00:00:00\",\"2012-05-08T00:00:00\",\"2012-05-15T00:00:00\",\"2012-05-22T00:00:00\",\"2012-05-29T00:00:00\",\"2012-06-05T00:00:00\",\"2012-06-12T00:00:00\",\"2012-06-19T00:00:00\",\"2012-06-26T00:00:00\",\"2012-07-03T00:00:00\",\"2012-07-10T00:00:00\",\"2012-07-17T00:00:00\",\"2012-07-24T00:00:00\",\"2012-07-31T00:00:00\",\"2012-08-07T00:00:00\",\"2012-08-14T00:00:00\",\"2012-08-21T00:00:00\",\"2012-08-28T00:00:00\",\"2012-09-04T00:00:00\",\"2012-09-11T00:00:00\",\"2012-09-18T00:00:00\",\"2012-09-25T00:00:00\",\"2012-10-02T00:00:00\",\"2012-10-09T00:00:00\",\"2012-10-16T00:00:00\",\"2012-10-23T00:00:00\",\"2012-10-30T00:00:00\",\"2012-11-06T00:00:00\",\"2012-11-13T00:00:00\",\"2012-11-20T00:00:00\",\"2012-11-27T00:00:00\",\"2012-12-04T00:00:00\",\"2012-12-11T00:00:00\",\"2012-12-18T00:00:00\",\"2012-12-24T00:00:00\",\"2012-12-31T00:00:00\",\"2013-01-08T00:00:00\",\"2013-01-15T00:00:00\",\"2013-01-22T00:00:00\",\"2013-01-29T00:00:00\",\"2013-02-05T00:00:00\",\"2013-02-12T00:00:00\",\"2013-02-19T00:00:00\",\"2013-02-26T00:00:00\",\"2013-03-05T00:00:00\",\"2013-03-12T00:00:00\",\"2013-03-19T00:00:00\",\"2013-03-26T00:00:00\",\"2013-04-02T00:00:00\",\"2013-04-09T00:00:00\",\"2013-04-16T00:00:00\",\"2013-04-23T00:00:00\",\"2013-04-30T00:00:00\",\"2013-05-07T00:00:00\",\"2013-05-14T00:00:00\",\"2013-05-21T00:00:00\",\"2013-05-28T00:00:00\",\"2013-06-04T00:00:00\",\"2013-06-11T00:00:00\",\"2013-06-18T00:00:00\",\"2013-06-25T00:00:00\",\"2013-07-02T00:00:00\",\"2013-07-09T00:00:00\",\"2013-07-16T00:00:00\",\"2013-07-23T00:00:00\",\"2013-07-30T00:00:00\",\"2013-08-06T00:00:00\",\"2013-08-13T00:00:00\",\"2013-08-20T00:00:00\",\"2013-08-27T00:00:00\",\"2013-09-03T00:00:00\",\"2013-09-10T00:00:00\",\"2013-09-17T00:00:00\",\"2013-09-24T00:00:00\",\"2013-10-01T00:00:00\",\"2013-10-08T00:00:00\",\"2013-10-15T00:00:00\",\"2013-10-22T00:00:00\",\"2013-10-29T00:00:00\",\"2013-11-05T00:00:00\",\"2013-11-12T00:00:00\",\"2013-11-19T00:00:00\",\"2013-11-26T00:00:00\",\"2013-12-03T00:00:00\",\"2013-12-10T00:00:00\",\"2013-12-17T00:00:00\",\"2013-12-24T00:00:00\",\"2013-12-31T00:00:00\",\"2014-01-07T00:00:00\",\"2014-01-14T00:00:00\",\"2014-01-21T00:00:00\",\"2014-01-28T00:00:00\",\"2014-02-04T00:00:00\",\"2014-02-11T00:00:00\",\"2014-02-18T00:00:00\",\"2014-02-25T00:00:00\",\"2014-03-04T00:00:00\",\"2014-03-11T00:00:00\",\"2014-03-18T00:00:00\",\"2014-03-25T00:00:00\",\"2014-04-01T00:00:00\",\"2014-04-08T00:00:00\",\"2014-04-15T00:00:00\",\"2014-04-22T00:00:00\",\"2014-04-29T00:00:00\",\"2014-05-06T00:00:00\",\"2014-05-13T00:00:00\",\"2014-05-20T00:00:00\",\"2014-05-27T00:00:00\",\"2014-06-03T00:00:00\",\"2014-06-10T00:00:00\",\"2014-06-17T00:00:00\",\"2014-06-24T00:00:00\",\"2014-07-01T00:00:00\",\"2014-07-08T00:00:00\",\"2014-07-15T00:00:00\",\"2014-07-22T00:00:00\",\"2014-07-29T00:00:00\",\"2014-08-05T00:00:00\",\"2014-08-12T00:00:00\",\"2014-08-19T00:00:00\",\"2014-08-26T00:00:00\",\"2014-09-02T00:00:00\",\"2014-09-09T00:00:00\",\"2014-09-16T00:00:00\",\"2014-09-23T00:00:00\",\"2014-09-30T00:00:00\",\"2014-10-07T00:00:00\",\"2014-10-14T00:00:00\",\"2014-10-21T00:00:00\",\"2014-10-28T00:00:00\",\"2014-11-04T00:00:00\",\"2014-11-11T00:00:00\",\"2014-11-18T00:00:00\",\"2014-11-25T00:00:00\",\"2014-12-02T00:00:00\",\"2014-12-09T00:00:00\",\"2014-12-16T00:00:00\",\"2014-12-23T00:00:00\",\"2014-12-30T00:00:00\",\"2015-01-06T00:00:00\",\"2015-01-13T00:00:00\",\"2015-01-20T00:00:00\",\"2015-01-27T00:00:00\",\"2015-02-03T00:00:00\",\"2015-02-10T00:00:00\",\"2015-02-17T00:00:00\",\"2015-02-24T00:00:00\",\"2015-03-03T00:00:00\",\"2015-03-10T00:00:00\",\"2015-03-17T00:00:00\",\"2015-03-24T00:00:00\",\"2015-03-31T00:00:00\",\"2015-04-07T00:00:00\",\"2015-04-14T00:00:00\",\"2015-04-21T00:00:00\",\"2015-04-28T00:00:00\",\"2015-05-05T00:00:00\",\"2015-05-12T00:00:00\",\"2015-05-19T00:00:00\",\"2015-05-26T00:00:00\",\"2015-06-02T00:00:00\",\"2015-06-09T00:00:00\",\"2015-06-16T00:00:00\",\"2015-06-23T00:00:00\",\"2015-06-30T00:00:00\",\"2015-07-07T00:00:00\",\"2015-07-14T00:00:00\",\"2015-07-21T00:00:00\",\"2015-07-28T00:00:00\",\"2015-08-04T00:00:00\",\"2015-08-11T00:00:00\",\"2015-08-18T00:00:00\",\"2015-08-25T00:00:00\",\"2015-09-01T00:00:00\",\"2015-09-08T00:00:00\",\"2015-09-15T00:00:00\",\"2015-09-22T00:00:00\",\"2015-09-29T00:00:00\",\"2015-10-06T00:00:00\",\"2015-10-13T00:00:00\",\"2015-10-20T00:00:00\",\"2015-10-27T00:00:00\",\"2015-11-03T00:00:00\",\"2015-11-10T00:00:00\",\"2015-11-17T00:00:00\",\"2015-11-24T00:00:00\",\"2015-12-01T00:00:00\",\"2015-12-08T00:00:00\",\"2015-12-15T00:00:00\",\"2015-12-22T00:00:00\",\"2015-12-29T00:00:00\",\"2016-01-05T00:00:00\",\"2016-01-12T00:00:00\",\"2016-01-19T00:00:00\",\"2016-01-26T00:00:00\",\"2016-02-02T00:00:00\",\"2016-02-09T00:00:00\",\"2016-02-16T00:00:00\",\"2016-02-23T00:00:00\",\"2016-03-01T00:00:00\",\"2016-03-08T00:00:00\",\"2016-03-15T00:00:00\",\"2016-03-22T00:00:00\",\"2016-03-29T00:00:00\",\"2016-04-05T00:00:00\",\"2016-04-12T00:00:00\",\"2016-04-19T00:00:00\",\"2016-04-26T00:00:00\",\"2016-05-03T00:00:00\",\"2016-05-10T00:00:00\",\"2016-05-17T00:00:00\",\"2016-05-24T00:00:00\",\"2016-05-31T00:00:00\",\"2016-06-07T00:00:00\",\"2016-06-14T00:00:00\",\"2016-06-21T00:00:00\",\"2016-06-28T00:00:00\",\"2016-07-05T00:00:00\",\"2016-07-12T00:00:00\",\"2016-07-19T00:00:00\",\"2016-07-26T00:00:00\",\"2016-08-02T00:00:00\",\"2016-08-09T00:00:00\",\"2016-08-16T00:00:00\",\"2016-08-23T00:00:00\",\"2016-08-30T00:00:00\",\"2016-09-06T00:00:00\",\"2016-09-13T00:00:00\",\"2016-09-20T00:00:00\",\"2016-09-27T00:00:00\",\"2016-10-04T00:00:00\",\"2016-10-11T00:00:00\",\"2016-10-18T00:00:00\",\"2016-10-25T00:00:00\",\"2016-11-01T00:00:00\",\"2016-11-08T00:00:00\",\"2016-11-15T00:00:00\",\"2016-11-22T00:00:00\",\"2016-11-29T00:00:00\",\"2016-12-06T00:00:00\",\"2016-12-13T00:00:00\",\"2016-12-20T00:00:00\",\"2016-12-27T00:00:00\",\"2017-01-03T00:00:00\",\"2017-01-10T00:00:00\",\"2017-01-17T00:00:00\",\"2017-01-24T00:00:00\",\"2017-01-31T00:00:00\",\"2017-02-07T00:00:00\",\"2017-02-14T00:00:00\",\"2017-02-21T00:00:00\",\"2017-02-28T00:00:00\",\"2017-03-07T00:00:00\",\"2017-03-14T00:00:00\",\"2017-03-21T00:00:00\",\"2017-03-28T00:00:00\",\"2017-04-04T00:00:00\",\"2017-04-11T00:00:00\",\"2017-04-18T00:00:00\",\"2017-04-25T00:00:00\",\"2017-05-02T00:00:00\",\"2017-05-09T00:00:00\",\"2017-05-16T00:00:00\",\"2017-05-23T00:00:00\",\"2017-05-30T00:00:00\",\"2017-06-06T00:00:00\",\"2017-06-13T00:00:00\",\"2017-06-20T00:00:00\",\"2017-06-27T00:00:00\",\"2017-07-11T00:00:00\",\"2017-07-18T00:00:00\",\"2017-07-25T00:00:00\",\"2017-08-01T00:00:00\",\"2017-08-08T00:00:00\",\"2017-08-15T00:00:00\",\"2017-08-22T00:00:00\",\"2017-08-29T00:00:00\",\"2017-09-05T00:00:00\",\"2017-09-12T00:00:00\",\"2017-09-19T00:00:00\",\"2017-09-26T00:00:00\",\"2017-10-03T00:00:00\",\"2017-10-10T00:00:00\",\"2017-10-17T00:00:00\",\"2017-10-24T00:00:00\",\"2017-10-31T00:00:00\",\"2017-11-07T00:00:00\",\"2017-11-14T00:00:00\",\"2017-11-21T00:00:00\",\"2017-11-28T00:00:00\",\"2017-12-05T00:00:00\",\"2017-12-12T00:00:00\",\"2017-12-19T00:00:00\",\"2017-12-26T00:00:00\",\"2018-01-02T00:00:00\",\"2018-01-09T00:00:00\",\"2018-01-16T00:00:00\",\"2018-01-23T00:00:00\",\"2018-01-30T00:00:00\",\"2018-02-06T00:00:00\",\"2018-02-13T00:00:00\",\"2018-02-20T00:00:00\",\"2018-02-27T00:00:00\",\"2018-03-06T00:00:00\",\"2018-03-13T00:00:00\",\"2018-03-20T00:00:00\",\"2018-03-27T00:00:00\",\"2018-04-03T00:00:00\",\"2018-04-10T00:00:00\",\"2018-04-17T00:00:00\",\"2018-04-24T00:00:00\",\"2018-05-01T00:00:00\",\"2018-05-08T00:00:00\",\"2018-05-15T00:00:00\",\"2018-05-22T00:00:00\",\"2018-05-29T00:00:00\",\"2018-06-05T00:00:00\",\"2018-06-12T00:00:00\",\"2018-06-19T00:00:00\",\"2018-06-26T00:00:00\",\"2018-07-03T00:00:00\",\"2018-07-10T00:00:00\",\"2018-07-17T00:00:00\",\"2018-07-24T00:00:00\",\"2018-07-31T00:00:00\",\"2018-08-07T00:00:00\",\"2018-08-14T00:00:00\",\"2018-08-21T00:00:00\",\"2018-08-28T00:00:00\",\"2018-09-04T00:00:00\",\"2018-09-11T00:00:00\",\"2018-09-18T00:00:00\",\"2018-09-25T00:00:00\",\"2018-10-02T00:00:00\",\"2018-10-09T00:00:00\",\"2018-10-16T00:00:00\",\"2018-10-23T00:00:00\",\"2018-10-30T00:00:00\",\"2018-11-06T00:00:00\",\"2018-11-13T00:00:00\",\"2018-11-20T00:00:00\",\"2018-11-27T00:00:00\",\"2018-12-04T00:00:00\",\"2018-12-11T00:00:00\",\"2018-12-18T00:00:00\",\"2019-01-08T00:00:00\",\"2019-01-15T00:00:00\",\"2019-01-22T00:00:00\",\"2019-01-29T00:00:00\",\"2019-02-05T00:00:00\",\"2019-02-12T00:00:00\",\"2019-02-19T00:00:00\",\"2019-02-26T00:00:00\",\"2019-03-05T00:00:00\",\"2019-03-12T00:00:00\",\"2019-03-19T00:00:00\",\"2019-03-26T00:00:00\",\"2019-04-02T00:00:00\",\"2019-04-09T00:00:00\",\"2019-04-16T00:00:00\",\"2019-04-23T00:00:00\",\"2019-04-30T00:00:00\",\"2019-05-07T00:00:00\",\"2019-05-14T00:00:00\",\"2019-05-21T00:00:00\",\"2019-05-28T00:00:00\",\"2019-06-04T00:00:00\",\"2019-06-11T00:00:00\",\"2019-06-18T00:00:00\",\"2019-06-25T00:00:00\",\"2019-07-02T00:00:00\",\"2019-07-09T00:00:00\",\"2019-07-16T00:00:00\",\"2019-07-23T00:00:00\",\"2019-07-30T00:00:00\",\"2019-08-06T00:00:00\",\"2019-08-13T00:00:00\",\"2019-08-20T00:00:00\",\"2019-08-27T00:00:00\",\"2019-09-03T00:00:00\",\"2019-09-10T00:00:00\",\"2019-09-17T00:00:00\",\"2019-09-24T00:00:00\",\"2019-10-01T00:00:00\",\"2019-10-08T00:00:00\",\"2019-10-15T00:00:00\",\"2019-10-22T00:00:00\",\"2019-10-29T00:00:00\",\"2019-11-05T00:00:00\",\"2019-11-12T00:00:00\",\"2019-11-19T00:00:00\",\"2019-11-26T00:00:00\",\"2019-12-03T00:00:00\",\"2019-12-10T00:00:00\",\"2019-12-17T00:00:00\",\"2019-12-24T00:00:00\",\"2019-12-31T00:00:00\",\"2020-01-07T00:00:00\",\"2020-01-14T00:00:00\",\"2020-01-21T00:00:00\",\"2020-01-28T00:00:00\",\"2020-02-04T00:00:00\",\"2020-02-11T00:00:00\",\"2020-02-18T00:00:00\",\"2020-02-25T00:00:00\",\"2020-03-03T00:00:00\",\"2020-03-10T00:00:00\",\"2020-03-17T00:00:00\",\"2020-03-24T00:00:00\",\"2020-03-31T00:00:00\",\"2020-04-07T00:00:00\",\"2020-04-14T00:00:00\",\"2020-04-21T00:00:00\",\"2020-04-28T00:00:00\",\"2020-05-05T00:00:00\",\"2020-05-12T00:00:00\",\"2020-05-19T00:00:00\",\"2020-05-26T00:00:00\",\"2020-06-02T00:00:00\",\"2020-06-09T00:00:00\",\"2020-06-16T00:00:00\",\"2020-06-23T00:00:00\",\"2020-06-30T00:00:00\",\"2020-07-07T00:00:00\",\"2020-07-14T00:00:00\",\"2020-07-21T00:00:00\",\"2020-07-28T00:00:00\",\"2020-08-04T00:00:00\",\"2020-08-11T00:00:00\",\"2020-08-18T00:00:00\",\"2020-08-25T00:00:00\",\"2020-09-01T00:00:00\",\"2020-09-08T00:00:00\",\"2020-09-15T00:00:00\",\"2020-09-22T00:00:00\",\"2020-09-29T00:00:00\",\"2020-10-06T00:00:00\",\"2020-10-13T00:00:00\",\"2020-10-20T00:00:00\",\"2020-10-27T00:00:00\",\"2020-11-03T00:00:00\",\"2020-11-10T00:00:00\",\"2020-11-17T00:00:00\",\"2020-11-24T00:00:00\",\"2020-12-01T00:00:00\",\"2020-12-08T00:00:00\",\"2020-12-15T00:00:00\",\"2020-12-21T00:00:00\",\"2020-12-29T00:00:00\",\"2021-01-05T00:00:00\",\"2021-01-12T00:00:00\",\"2021-01-19T00:00:00\",\"2021-01-26T00:00:00\",\"2021-02-02T00:00:00\",\"2021-02-09T00:00:00\",\"2021-02-16T00:00:00\",\"2021-02-23T00:00:00\",\"2021-03-02T00:00:00\",\"2021-03-09T00:00:00\",\"2021-03-16T00:00:00\",\"2021-03-23T00:00:00\",\"2021-03-30T00:00:00\",\"2021-04-06T00:00:00\",\"2021-04-13T00:00:00\",\"2021-04-20T00:00:00\",\"2021-04-27T00:00:00\",\"2021-05-04T00:00:00\",\"2021-05-11T00:00:00\",\"2021-05-18T00:00:00\",\"2021-05-25T00:00:00\",\"2021-06-01T00:00:00\",\"2021-06-08T00:00:00\",\"2021-06-15T00:00:00\",\"2021-06-22T00:00:00\",\"2021-06-29T00:00:00\",\"2021-07-06T00:00:00\",\"2021-07-13T00:00:00\",\"2021-07-20T00:00:00\",\"2021-07-27T00:00:00\",\"2021-08-03T00:00:00\",\"2021-08-10T00:00:00\",\"2021-08-17T00:00:00\",\"2021-08-24T00:00:00\",\"2021-08-31T00:00:00\",\"2021-09-07T00:00:00\",\"2021-09-14T00:00:00\",\"2021-09-21T00:00:00\",\"2021-09-28T00:00:00\",\"2021-10-05T00:00:00\",\"2021-10-12T00:00:00\",\"2021-10-19T00:00:00\",\"2021-10-26T00:00:00\",\"2021-11-02T00:00:00\",\"2021-11-09T00:00:00\",\"2021-11-16T00:00:00\",\"2021-11-23T00:00:00\",\"2021-11-30T00:00:00\",\"2021-12-07T00:00:00\",\"2021-12-14T00:00:00\",\"2021-12-21T00:00:00\",\"2021-12-28T00:00:00\",\"2022-01-04T00:00:00\",\"2022-01-11T00:00:00\",\"2022-01-18T00:00:00\",\"2022-01-25T00:00:00\",\"2022-02-01T00:00:00\",\"2022-02-08T00:00:00\",\"2022-02-15T00:00:00\",\"2022-02-22T00:00:00\",\"2022-03-01T00:00:00\",\"2022-03-08T00:00:00\",\"2022-03-15T00:00:00\",\"2022-03-22T00:00:00\",\"2022-03-29T00:00:00\",\"2022-04-05T00:00:00\",\"2022-04-12T00:00:00\",\"2022-04-19T00:00:00\",\"2022-04-26T00:00:00\",\"2022-05-03T00:00:00\",\"2022-05-10T00:00:00\",\"2022-05-17T00:00:00\",\"2022-05-24T00:00:00\",\"2022-05-31T00:00:00\",\"2022-06-07T00:00:00\",\"2022-06-14T00:00:00\",\"2022-06-21T00:00:00\",\"2022-06-28T00:00:00\",\"2022-07-05T00:00:00\",\"2022-07-12T00:00:00\",\"2022-07-19T00:00:00\",\"2022-07-26T00:00:00\",\"2022-08-02T00:00:00\",\"2022-08-09T00:00:00\",\"2022-08-16T00:00:00\",\"2022-08-23T00:00:00\",\"2022-08-30T00:00:00\",\"2022-09-06T00:00:00\",\"2022-09-13T00:00:00\",\"2022-09-20T00:00:00\",\"2022-09-27T00:00:00\",\"2022-10-04T00:00:00\",\"2022-10-11T00:00:00\",\"2022-10-18T00:00:00\",\"2022-10-25T00:00:00\",\"2022-11-01T00:00:00\",\"2022-11-08T00:00:00\",\"2022-11-15T00:00:00\",\"2022-11-22T00:00:00\",\"2022-11-29T00:00:00\",\"2022-12-06T00:00:00\",\"2022-12-13T00:00:00\",\"2022-12-20T00:00:00\",\"2022-12-27T00:00:00\",\"2023-01-03T00:00:00\",\"2023-01-10T00:00:00\",\"2023-01-17T00:00:00\",\"2023-01-24T00:00:00\",\"2023-01-31T00:00:00\",\"2023-02-07T00:00:00\",\"2023-02-14T00:00:00\",\"2023-02-21T00:00:00\",\"2023-02-28T00:00:00\",\"2023-03-07T00:00:00\",\"2023-03-14T00:00:00\",\"2023-03-21T00:00:00\",\"2023-03-28T00:00:00\",\"2023-04-04T00:00:00\",\"2023-04-11T00:00:00\",\"2023-04-18T00:00:00\",\"2023-04-25T00:00:00\",\"2023-05-02T00:00:00\",\"2023-05-09T00:00:00\",\"2023-05-16T00:00:00\",\"2023-05-23T00:00:00\",\"2023-05-30T00:00:00\"],\"y\":[1044276,968619,991500,1061431,1086762,1051351,1109838,1164949,1209950,1122955,1149670,1170266,1213940,1177409,1148838,1173630,1193421,1186170,1133789,1158612,1160833,1220474,1152869,1172455,1218680,1222508,1161945,1179893,1226641,1280292,1317380,1269598,1306996,1298456,1322794,1227487,1269208,1275194,1322242,1312508,1330479,1358053,1326403,1309533,1316177,1341807,1384509,1448897,1350183,1388590,1423761,1432636,1422817,1436152,1499897,1546372,1549425,1485746,1521237,1504817,1516963,1422175,1432723,1489231,1544715,1488381,1409620,1426044,1440924,1489293,1408072,1448114,1513362,1445162,1397984,1404428,1382526,1380907,1330250,1325751,1361258,1413956,1458072,1343167,1365807,1368524,1393035,1355135,1405922,1450956,1484417,1407359,1362667,1381645,1412326,1441373,1337055,1365456,1422431,1477007,1356657,1338874,1355667,1418749,1335207,1306075,1294480,1316278,1344411,1217375,1220537,1249302,1241415,1203758,1187623,1226876,1231450,1241629,1113388,1092411,1087569,1090251,1035697,1073159,1125366,1154740,1122604,1120731,1147475,1168030,1166910,1135539,1169215,1215189,1246827,1250327,1245999,1254242,1237590,1230255,1179171,1191724,1210253,1197113,1160240,1148687,1162312,1192619,1140230,1139336,1197954,1246806,1093976,1095865,1191638,1203679,1198182,1110597,1159868,1162597,1203729,1149799,1173580,1202598,1172385,1173172,1159096,1164511,1178263,1197629,1124865,1178475,1248517,1263193,1216356,1220540,1191055,1234952,1250074,1182804,1209796,1217908,1217100,1159436,1185208,1231436,1300867,1324903,1320661,1360697,1307602,1301624,1280235,1297435,1348241,1357426,1298539,1283846,1343407,1392323,1356869,1395964,1445326,1470234,1387907,1345993,1367020,1322308,1336533,1260132,1259675,1271853,1276328,1214183,1240029,1234649,1274605,1267340,1246784,1308042,1347231,1336392,1324114,1332755,1407933,1442044,1422821,1394673,1433324,1486195,1399774,1331203,1342325,1367119,1380779,1369544,1401989,1471226,1501588,1491996,1499599,1531942,1536606,1559669,1506594,1569519,1572544,1580632,1503614,1516081,1566762,1584517,1539895,1553704,1624328,1653799,1582868,1522076,1508418,1515910,1584927,1528927,1524313,1522391,1538256,1493882,1506662,1528978,1564480,1553021,1465256,1494803,1523907,1462207,1365197,1380562,1431783,1424634,1431563,1388897,1345024,1366205,1357125,1295618,1302512,1332544,1346495,1298500,1325562,1373018,1388799,1381041,1341810,1399874,1484546,1486350,1441526,1517833,1584849,1579060,1558284,1562147,1569070,1563132,1570513,1539257,1602007,1590926,1539151,1442523,1440107,1456604,1458395,1432126,1432162,1432999,1413415,1403473,1389039,1395758,1449617,1469908,1470157,1511314,1531823,1585806,1607540,1555863,1556877,1542886,1580619,1578997,1597501,1614897,1539663,1498820,1522133,1549067,1543454,1493851,1476652,1473345,1477695,1495149,1491867,1553636,1594844,1653440,1650211,1654089,1710526,1720024,1647391,1693684,1731930,1768185,1764368,1718878,1771193,1770442,1758686,1742051,1744717,1740663,1815904,1868964,1809371,1769805,1818204,1880612,1865700,1837823,1879218,1934417,1835367,1855284,1856725,1901643,1926402,1881081,1856649,1871940,1824929,1785295,1774386,1736874,1735933,1620641,1636454,1645686,1661416,1629694,1598935,1615844,1619796,1623027,1613293,1591971,1561179,1646415,1650294,1643886,1687807,1697240,1623266,1604566,1644507,1655472,1674276,1619737,1651521,1638412,1627403,1607523,1635600,1664043,1676336,1721703,1720856,1759554,1742131,1721704,1642836,1628926,1587187,1583609,1542337,1550253,1559353,1553516,1528614,1480629,1485856,1503764,1537452,1459981,1476289,1498736,1509371,1459175,1386635,1439654,1445093,1475862,1428829,1457729,1505101,1627535,1591022,1668047,1721471,1717593,1689966,1695437,1687908,1670894,1760721,1748067,1740134,1743733,1774773,1723025,1717417,1750082,1731678,1621198,1614397,1651499,1641774,1652013,1650025,1670091,1691891,1733695,1668737,1694436,1736523,1676233,1688731,1677151,1688806,1704251,1702949,1606217,1617902,1675676,1645951,1613562,1676033,1676897,1671590,1662829,1632471,1661176,1713573,1678527,1646306,1648904,1703201,1756232,1686382,1761883,1855603,1854379,1840051,1776696,1800298,1816474,1782857,1705631,1734511,1773774,1803510,1714186,1714689,1748628,1724987,1698980,1657419,1709540,1748314,1774350,1726381,1720740,1751823,1728765,1685116,1718306,1792640,1829979,1852402,1747499,1787891,1861718,1829620,1811705,1830991,1871665,1880412,1811281,1821737,1854612,1973656,2027539,1995504,2020026,2098290,2104703,2029807,2037834,2089324,2114656,2179122,2151809,2181656,2191158,2183943,2103278,2120334,2137532,2240261,2194206,2222462,2213064,2193567,2161434,2188272,2215531,2276413,2337124,2211099,2198081,2228585,2176740,2118015,2143111,2133575,2140060,2149971,2219691,2215548,2311603,2236977,2247058,2326586,2345125,2377488,2411223,2471226,2437479,2440472,2371940,2509878,2601977,2627570,2512147,2489012,2554224,2571686,2456059,2460193,2479798,2545313,2611581,2593128,2643683,2589270,2530604,2431805,2460214,2451492,2403162,2392391,2513575,2547337,2480033,2596578,2574820,2621768,2658229,2706454,2643354,2620926,2546827,2524439,2458404,2423829,2466531,2499172,2440486,2361062,2349169,2342575,2329989,2235767,2240977,2303047,2281869,2228937,2225779,2245589,2217171,2218887,2131494,2093055,2075239,2110793,1998866,2020092,2048735,2050634,2063376,2120930,2103777,2048817,2042018,2057061,2077398,2019218,2025884,2067851,2012864,1962559,1968511,1975009,2021814,2092151,2139213,2144648,2133539,2153657,2085029,2102854,2078407,2057046,2003618,2004961,2031169,1999766,2089629,2056492,2069072,2070210,2059135,2002847,2003007,2082415,2080994,2073041,2048088,2085676,2105717,2136717,2081290,2045914,2083893,2151499,2123596,2187168,2163757,2229813,2166584,2114661,2145567,2244930,2215893,2146832,2172019,2271741,2213522,2138168,2179833,2196089,2220972,2154450,2141284,2340672,2342227,2353955,2276638,2261202,2243871,2248020,2158749,2135678,2127664,2126629,2076990,2003477,2008618,1972049,2019705,1956768,1992556,2032921,2060880,2044952,2052448,2064137,2046660,2108987,2028620,2078331,2111762,2059382,2008815,2011744,2013491,2053450,2083804,2083018,2122605,2131913,2154618,2120797,2121502,2169541,2234696,2217037,2316660,2389677,2446808,2507620,2460204,2491831,2494636,2523179,2321767,2327016,2340357,2301831,2346793,2353470,2419641,2444466,2458804,2426045,2507073,2511533,2474859,2348317,2369631,2413946,2413536,2243475,2326985,2313202,2194794,2135698,2042879,2074185,2107706,2145165,2101558,2175199,2230794,2231227,2205089,2144359,2121461,2081385,2057633,2028573,2033286,1972536,1953397,1892701,1867339,1887131,1966615,2059564,2095994,2093735,2170681,2122758,2058132,2028476,1896974,1850794,1788211,1795929,1823366,1783725,1740300,1733586,1751564,1736594,1730665,1711863,1787928,1790618,1715674,1658636,1651566,1637862,1612803,1577616,1597451,1606910,1570131,1557349,1503506,1470207,1480320,1498059,1481545,1504991,1495538,1499498,1454431,1436942,1459052,1446658,1469437,1405565,1412121,1436728,1450482,1395622,1413545,1459936,1557092,1613466,1660450,1726378,1791955,1821601,1756029,1750212,1755027,1767660,1791902,1785807,1858446,1875140,1913192,1826195,1908299,1885886,1856570,1847901,1920740],\"type\":\"scatter\",\"xaxis\":\"x\",\"yaxis\":\"y\"},{\"name\":\"price_WTI\",\"x\":[\"2006-06-13T00:00:00\",\"2006-06-20T00:00:00\",\"2006-06-27T00:00:00\",\"2006-07-11T00:00:00\",\"2006-07-18T00:00:00\",\"2006-07-25T00:00:00\",\"2006-08-01T00:00:00\",\"2006-08-08T00:00:00\",\"2006-08-15T00:00:00\",\"2006-08-22T00:00:00\",\"2006-08-29T00:00:00\",\"2006-09-05T00:00:00\",\"2006-09-12T00:00:00\",\"2006-09-19T00:00:00\",\"2006-09-26T00:00:00\",\"2006-10-03T00:00:00\",\"2006-10-10T00:00:00\",\"2006-10-17T00:00:00\",\"2006-10-24T00:00:00\",\"2006-10-31T00:00:00\",\"2006-11-07T00:00:00\",\"2006-11-14T00:00:00\",\"2006-11-21T00:00:00\",\"2006-11-28T00:00:00\",\"2006-12-05T00:00:00\",\"2006-12-12T00:00:00\",\"2006-12-19T00:00:00\",\"2006-12-26T00:00:00\",\"2007-01-03T00:00:00\",\"2007-01-09T00:00:00\",\"2007-01-16T00:00:00\",\"2007-01-23T00:00:00\",\"2007-01-30T00:00:00\",\"2007-02-06T00:00:00\",\"2007-02-13T00:00:00\",\"2007-02-20T00:00:00\",\"2007-02-27T00:00:00\",\"2007-03-06T00:00:00\",\"2007-03-13T00:00:00\",\"2007-03-20T00:00:00\",\"2007-03-27T00:00:00\",\"2007-04-03T00:00:00\",\"2007-04-10T00:00:00\",\"2007-04-17T00:00:00\",\"2007-04-24T00:00:00\",\"2007-05-01T00:00:00\",\"2007-05-08T00:00:00\",\"2007-05-15T00:00:00\",\"2007-05-22T00:00:00\",\"2007-05-29T00:00:00\",\"2007-06-05T00:00:00\",\"2007-06-12T00:00:00\",\"2007-06-19T00:00:00\",\"2007-06-26T00:00:00\",\"2007-07-03T00:00:00\",\"2007-07-10T00:00:00\",\"2007-07-17T00:00:00\",\"2007-07-24T00:00:00\",\"2007-07-31T00:00:00\",\"2007-08-07T00:00:00\",\"2007-08-14T00:00:00\",\"2007-08-21T00:00:00\",\"2007-08-28T00:00:00\",\"2007-09-04T00:00:00\",\"2007-09-11T00:00:00\",\"2007-09-18T00:00:00\",\"2007-09-25T00:00:00\",\"2007-10-02T00:00:00\",\"2007-10-09T00:00:00\",\"2007-10-16T00:00:00\",\"2007-10-23T00:00:00\",\"2007-10-30T00:00:00\",\"2007-11-06T00:00:00\",\"2007-11-13T00:00:00\",\"2007-11-20T00:00:00\",\"2007-11-27T00:00:00\",\"2007-12-04T00:00:00\",\"2007-12-11T00:00:00\",\"2007-12-18T00:00:00\",\"2007-12-24T00:00:00\",\"2007-12-31T00:00:00\",\"2008-01-08T00:00:00\",\"2008-01-15T00:00:00\",\"2008-01-22T00:00:00\",\"2008-01-29T00:00:00\",\"2008-02-05T00:00:00\",\"2008-02-12T00:00:00\",\"2008-02-19T00:00:00\",\"2008-02-26T00:00:00\",\"2008-03-04T00:00:00\",\"2008-03-11T00:00:00\",\"2008-03-18T00:00:00\",\"2008-03-25T00:00:00\",\"2008-04-01T00:00:00\",\"2008-04-08T00:00:00\",\"2008-04-15T00:00:00\",\"2008-04-22T00:00:00\",\"2008-04-29T00:00:00\",\"2008-05-06T00:00:00\",\"2008-05-13T00:00:00\",\"2008-05-20T00:00:00\",\"2008-05-27T00:00:00\",\"2008-06-03T00:00:00\",\"2008-06-10T00:00:00\",\"2008-06-17T00:00:00\",\"2008-06-24T00:00:00\",\"2008-07-01T00:00:00\",\"2008-07-08T00:00:00\",\"2008-07-15T00:00:00\",\"2008-07-22T00:00:00\",\"2008-07-29T00:00:00\",\"2008-08-05T00:00:00\",\"2008-08-12T00:00:00\",\"2008-08-19T00:00:00\",\"2008-08-26T00:00:00\",\"2008-09-02T00:00:00\",\"2008-09-09T00:00:00\",\"2008-09-16T00:00:00\",\"2008-09-23T00:00:00\",\"2008-09-30T00:00:00\",\"2008-10-07T00:00:00\",\"2008-10-14T00:00:00\",\"2008-10-21T00:00:00\",\"2008-10-28T00:00:00\",\"2008-11-04T00:00:00\",\"2008-11-11T00:00:00\",\"2008-11-18T00:00:00\",\"2008-11-25T00:00:00\",\"2008-12-02T00:00:00\",\"2008-12-09T00:00:00\",\"2008-12-16T00:00:00\",\"2008-12-22T00:00:00\",\"2008-12-30T00:00:00\",\"2009-01-06T00:00:00\",\"2009-01-13T00:00:00\",\"2009-01-20T00:00:00\",\"2009-01-27T00:00:00\",\"2009-02-03T00:00:00\",\"2009-02-10T00:00:00\",\"2009-02-17T00:00:00\",\"2009-02-24T00:00:00\",\"2009-03-03T00:00:00\",\"2009-03-10T00:00:00\",\"2009-03-17T00:00:00\",\"2009-03-24T00:00:00\",\"2009-03-31T00:00:00\",\"2009-04-07T00:00:00\",\"2009-04-14T00:00:00\",\"2009-04-21T00:00:00\",\"2009-04-28T00:00:00\",\"2009-05-05T00:00:00\",\"2009-05-12T00:00:00\",\"2009-05-19T00:00:00\",\"2009-05-26T00:00:00\",\"2009-06-02T00:00:00\",\"2009-06-09T00:00:00\",\"2009-06-16T00:00:00\",\"2009-06-23T00:00:00\",\"2009-06-30T00:00:00\",\"2009-07-07T00:00:00\",\"2009-07-14T00:00:00\",\"2009-07-21T00:00:00\",\"2009-07-28T00:00:00\",\"2009-08-04T00:00:00\",\"2009-08-11T00:00:00\",\"2009-08-18T00:00:00\",\"2009-08-25T00:00:00\",\"2009-09-01T00:00:00\",\"2009-09-08T00:00:00\",\"2009-09-15T00:00:00\",\"2009-09-22T00:00:00\",\"2009-09-29T00:00:00\",\"2009-10-06T00:00:00\",\"2009-10-13T00:00:00\",\"2009-10-20T00:00:00\",\"2009-10-27T00:00:00\",\"2009-11-03T00:00:00\",\"2009-11-09T00:00:00\",\"2009-11-17T00:00:00\",\"2009-11-24T00:00:00\",\"2009-12-01T00:00:00\",\"2009-12-08T00:00:00\",\"2009-12-15T00:00:00\",\"2009-12-22T00:00:00\",\"2009-12-29T00:00:00\",\"2010-01-05T00:00:00\",\"2010-01-12T00:00:00\",\"2010-01-19T00:00:00\",\"2010-01-26T00:00:00\",\"2010-02-02T00:00:00\",\"2010-02-09T00:00:00\",\"2010-02-16T00:00:00\",\"2010-02-23T00:00:00\",\"2010-03-02T00:00:00\",\"2010-03-09T00:00:00\",\"2010-03-16T00:00:00\",\"2010-03-23T00:00:00\",\"2010-03-30T00:00:00\",\"2010-04-06T00:00:00\",\"2010-04-13T00:00:00\",\"2010-04-20T00:00:00\",\"2010-04-27T00:00:00\",\"2010-05-04T00:00:00\",\"2010-05-11T00:00:00\",\"2010-05-18T00:00:00\",\"2010-05-25T00:00:00\",\"2010-06-01T00:00:00\",\"2010-06-08T00:00:00\",\"2010-06-15T00:00:00\",\"2010-06-22T00:00:00\",\"2010-06-29T00:00:00\",\"2010-07-06T00:00:00\",\"2010-07-13T00:00:00\",\"2010-07-20T00:00:00\",\"2010-07-27T00:00:00\",\"2010-08-03T00:00:00\",\"2010-08-10T00:00:00\",\"2010-08-17T00:00:00\",\"2010-08-24T00:00:00\",\"2010-08-31T00:00:00\",\"2010-09-07T00:00:00\",\"2010-09-14T00:00:00\",\"2010-09-21T00:00:00\",\"2010-09-28T00:00:00\",\"2010-10-05T00:00:00\",\"2010-10-12T00:00:00\",\"2010-10-19T00:00:00\",\"2010-10-26T00:00:00\",\"2010-11-02T00:00:00\",\"2010-11-09T00:00:00\",\"2010-11-16T00:00:00\",\"2010-11-23T00:00:00\",\"2010-11-30T00:00:00\",\"2010-12-07T00:00:00\",\"2010-12-14T00:00:00\",\"2010-12-21T00:00:00\",\"2010-12-28T00:00:00\",\"2011-01-04T00:00:00\",\"2011-01-11T00:00:00\",\"2011-01-18T00:00:00\",\"2011-01-25T00:00:00\",\"2011-02-01T00:00:00\",\"2011-02-08T00:00:00\",\"2011-02-15T00:00:00\",\"2011-02-22T00:00:00\",\"2011-03-01T00:00:00\",\"2011-03-08T00:00:00\",\"2011-03-15T00:00:00\",\"2011-03-22T00:00:00\",\"2011-03-29T00:00:00\",\"2011-04-05T00:00:00\",\"2011-04-12T00:00:00\",\"2011-04-19T00:00:00\",\"2011-04-26T00:00:00\",\"2011-05-03T00:00:00\",\"2011-05-10T00:00:00\",\"2011-05-17T00:00:00\",\"2011-05-24T00:00:00\",\"2011-05-31T00:00:00\",\"2011-06-07T00:00:00\",\"2011-06-14T00:00:00\",\"2011-06-21T00:00:00\",\"2011-06-28T00:00:00\",\"2011-07-05T00:00:00\",\"2011-07-12T00:00:00\",\"2011-07-19T00:00:00\",\"2011-07-26T00:00:00\",\"2011-08-02T00:00:00\",\"2011-08-09T00:00:00\",\"2011-08-16T00:00:00\",\"2011-08-23T00:00:00\",\"2011-08-30T00:00:00\",\"2011-09-06T00:00:00\",\"2011-09-13T00:00:00\",\"2011-09-20T00:00:00\",\"2011-09-27T00:00:00\",\"2011-10-04T00:00:00\",\"2011-10-11T00:00:00\",\"2011-10-18T00:00:00\",\"2011-10-25T00:00:00\",\"2011-11-01T00:00:00\",\"2011-11-08T00:00:00\",\"2011-11-15T00:00:00\",\"2011-11-22T00:00:00\",\"2011-11-29T00:00:00\",\"2011-12-06T00:00:00\",\"2011-12-13T00:00:00\",\"2011-12-20T00:00:00\",\"2011-12-27T00:00:00\",\"2012-01-03T00:00:00\",\"2012-01-10T00:00:00\",\"2012-01-17T00:00:00\",\"2012-01-24T00:00:00\",\"2012-01-31T00:00:00\",\"2012-02-07T00:00:00\",\"2012-02-14T00:00:00\",\"2012-02-21T00:00:00\",\"2012-02-28T00:00:00\",\"2012-03-06T00:00:00\",\"2012-03-13T00:00:00\",\"2012-03-20T00:00:00\",\"2012-03-27T00:00:00\",\"2012-04-03T00:00:00\",\"2012-04-10T00:00:00\",\"2012-04-17T00:00:00\",\"2012-04-24T00:00:00\",\"2012-05-01T00:00:00\",\"2012-05-08T00:00:00\",\"2012-05-15T00:00:00\",\"2012-05-22T00:00:00\",\"2012-05-29T00:00:00\",\"2012-06-05T00:00:00\",\"2012-06-12T00:00:00\",\"2012-06-19T00:00:00\",\"2012-06-26T00:00:00\",\"2012-07-03T00:00:00\",\"2012-07-10T00:00:00\",\"2012-07-17T00:00:00\",\"2012-07-24T00:00:00\",\"2012-07-31T00:00:00\",\"2012-08-07T00:00:00\",\"2012-08-14T00:00:00\",\"2012-08-21T00:00:00\",\"2012-08-28T00:00:00\",\"2012-09-04T00:00:00\",\"2012-09-11T00:00:00\",\"2012-09-18T00:00:00\",\"2012-09-25T00:00:00\",\"2012-10-02T00:00:00\",\"2012-10-09T00:00:00\",\"2012-10-16T00:00:00\",\"2012-10-23T00:00:00\",\"2012-10-30T00:00:00\",\"2012-11-06T00:00:00\",\"2012-11-13T00:00:00\",\"2012-11-20T00:00:00\",\"2012-11-27T00:00:00\",\"2012-12-04T00:00:00\",\"2012-12-11T00:00:00\",\"2012-12-18T00:00:00\",\"2012-12-24T00:00:00\",\"2012-12-31T00:00:00\",\"2013-01-08T00:00:00\",\"2013-01-15T00:00:00\",\"2013-01-22T00:00:00\",\"2013-01-29T00:00:00\",\"2013-02-05T00:00:00\",\"2013-02-12T00:00:00\",\"2013-02-19T00:00:00\",\"2013-02-26T00:00:00\",\"2013-03-05T00:00:00\",\"2013-03-12T00:00:00\",\"2013-03-19T00:00:00\",\"2013-03-26T00:00:00\",\"2013-04-02T00:00:00\",\"2013-04-09T00:00:00\",\"2013-04-16T00:00:00\",\"2013-04-23T00:00:00\",\"2013-04-30T00:00:00\",\"2013-05-07T00:00:00\",\"2013-05-14T00:00:00\",\"2013-05-21T00:00:00\",\"2013-05-28T00:00:00\",\"2013-06-04T00:00:00\",\"2013-06-11T00:00:00\",\"2013-06-18T00:00:00\",\"2013-06-25T00:00:00\",\"2013-07-02T00:00:00\",\"2013-07-09T00:00:00\",\"2013-07-16T00:00:00\",\"2013-07-23T00:00:00\",\"2013-07-30T00:00:00\",\"2013-08-06T00:00:00\",\"2013-08-13T00:00:00\",\"2013-08-20T00:00:00\",\"2013-08-27T00:00:00\",\"2013-09-03T00:00:00\",\"2013-09-10T00:00:00\",\"2013-09-17T00:00:00\",\"2013-09-24T00:00:00\",\"2013-10-01T00:00:00\",\"2013-10-08T00:00:00\",\"2013-10-15T00:00:00\",\"2013-10-22T00:00:00\",\"2013-10-29T00:00:00\",\"2013-11-05T00:00:00\",\"2013-11-12T00:00:00\",\"2013-11-19T00:00:00\",\"2013-11-26T00:00:00\",\"2013-12-03T00:00:00\",\"2013-12-10T00:00:00\",\"2013-12-17T00:00:00\",\"2013-12-24T00:00:00\",\"2013-12-31T00:00:00\",\"2014-01-07T00:00:00\",\"2014-01-14T00:00:00\",\"2014-01-21T00:00:00\",\"2014-01-28T00:00:00\",\"2014-02-04T00:00:00\",\"2014-02-11T00:00:00\",\"2014-02-18T00:00:00\",\"2014-02-25T00:00:00\",\"2014-03-04T00:00:00\",\"2014-03-11T00:00:00\",\"2014-03-18T00:00:00\",\"2014-03-25T00:00:00\",\"2014-04-01T00:00:00\",\"2014-04-08T00:00:00\",\"2014-04-15T00:00:00\",\"2014-04-22T00:00:00\",\"2014-04-29T00:00:00\",\"2014-05-06T00:00:00\",\"2014-05-13T00:00:00\",\"2014-05-20T00:00:00\",\"2014-05-27T00:00:00\",\"2014-06-03T00:00:00\",\"2014-06-10T00:00:00\",\"2014-06-17T00:00:00\",\"2014-06-24T00:00:00\",\"2014-07-01T00:00:00\",\"2014-07-08T00:00:00\",\"2014-07-15T00:00:00\",\"2014-07-22T00:00:00\",\"2014-07-29T00:00:00\",\"2014-08-05T00:00:00\",\"2014-08-12T00:00:00\",\"2014-08-19T00:00:00\",\"2014-08-26T00:00:00\",\"2014-09-02T00:00:00\",\"2014-09-09T00:00:00\",\"2014-09-16T00:00:00\",\"2014-09-23T00:00:00\",\"2014-09-30T00:00:00\",\"2014-10-07T00:00:00\",\"2014-10-14T00:00:00\",\"2014-10-21T00:00:00\",\"2014-10-28T00:00:00\",\"2014-11-04T00:00:00\",\"2014-11-11T00:00:00\",\"2014-11-18T00:00:00\",\"2014-11-25T00:00:00\",\"2014-12-02T00:00:00\",\"2014-12-09T00:00:00\",\"2014-12-16T00:00:00\",\"2014-12-23T00:00:00\",\"2014-12-30T00:00:00\",\"2015-01-06T00:00:00\",\"2015-01-13T00:00:00\",\"2015-01-20T00:00:00\",\"2015-01-27T00:00:00\",\"2015-02-03T00:00:00\",\"2015-02-10T00:00:00\",\"2015-02-17T00:00:00\",\"2015-02-24T00:00:00\",\"2015-03-03T00:00:00\",\"2015-03-10T00:00:00\",\"2015-03-17T00:00:00\",\"2015-03-24T00:00:00\",\"2015-03-31T00:00:00\",\"2015-04-07T00:00:00\",\"2015-04-14T00:00:00\",\"2015-04-21T00:00:00\",\"2015-04-28T00:00:00\",\"2015-05-05T00:00:00\",\"2015-05-12T00:00:00\",\"2015-05-19T00:00:00\",\"2015-05-26T00:00:00\",\"2015-06-02T00:00:00\",\"2015-06-09T00:00:00\",\"2015-06-16T00:00:00\",\"2015-06-23T00:00:00\",\"2015-06-30T00:00:00\",\"2015-07-07T00:00:00\",\"2015-07-14T00:00:00\",\"2015-07-21T00:00:00\",\"2015-07-28T00:00:00\",\"2015-08-04T00:00:00\",\"2015-08-11T00:00:00\",\"2015-08-18T00:00:00\",\"2015-08-25T00:00:00\",\"2015-09-01T00:00:00\",\"2015-09-08T00:00:00\",\"2015-09-15T00:00:00\",\"2015-09-22T00:00:00\",\"2015-09-29T00:00:00\",\"2015-10-06T00:00:00\",\"2015-10-13T00:00:00\",\"2015-10-20T00:00:00\",\"2015-10-27T00:00:00\",\"2015-11-03T00:00:00\",\"2015-11-10T00:00:00\",\"2015-11-17T00:00:00\",\"2015-11-24T00:00:00\",\"2015-12-01T00:00:00\",\"2015-12-08T00:00:00\",\"2015-12-15T00:00:00\",\"2015-12-22T00:00:00\",\"2015-12-29T00:00:00\",\"2016-01-05T00:00:00\",\"2016-01-12T00:00:00\",\"2016-01-19T00:00:00\",\"2016-01-26T00:00:00\",\"2016-02-02T00:00:00\",\"2016-02-09T00:00:00\",\"2016-02-16T00:00:00\",\"2016-02-23T00:00:00\",\"2016-03-01T00:00:00\",\"2016-03-08T00:00:00\",\"2016-03-15T00:00:00\",\"2016-03-22T00:00:00\",\"2016-03-29T00:00:00\",\"2016-04-05T00:00:00\",\"2016-04-12T00:00:00\",\"2016-04-19T00:00:00\",\"2016-04-26T00:00:00\",\"2016-05-03T00:00:00\",\"2016-05-10T00:00:00\",\"2016-05-17T00:00:00\",\"2016-05-24T00:00:00\",\"2016-05-31T00:00:00\",\"2016-06-07T00:00:00\",\"2016-06-14T00:00:00\",\"2016-06-21T00:00:00\",\"2016-06-28T00:00:00\",\"2016-07-05T00:00:00\",\"2016-07-12T00:00:00\",\"2016-07-19T00:00:00\",\"2016-07-26T00:00:00\",\"2016-08-02T00:00:00\",\"2016-08-09T00:00:00\",\"2016-08-16T00:00:00\",\"2016-08-23T00:00:00\",\"2016-08-30T00:00:00\",\"2016-09-06T00:00:00\",\"2016-09-13T00:00:00\",\"2016-09-20T00:00:00\",\"2016-09-27T00:00:00\",\"2016-10-04T00:00:00\",\"2016-10-11T00:00:00\",\"2016-10-18T00:00:00\",\"2016-10-25T00:00:00\",\"2016-11-01T00:00:00\",\"2016-11-08T00:00:00\",\"2016-11-15T00:00:00\",\"2016-11-22T00:00:00\",\"2016-11-29T00:00:00\",\"2016-12-06T00:00:00\",\"2016-12-13T00:00:00\",\"2016-12-20T00:00:00\",\"2016-12-27T00:00:00\",\"2017-01-03T00:00:00\",\"2017-01-10T00:00:00\",\"2017-01-17T00:00:00\",\"2017-01-24T00:00:00\",\"2017-01-31T00:00:00\",\"2017-02-07T00:00:00\",\"2017-02-14T00:00:00\",\"2017-02-21T00:00:00\",\"2017-02-28T00:00:00\",\"2017-03-07T00:00:00\",\"2017-03-14T00:00:00\",\"2017-03-21T00:00:00\",\"2017-03-28T00:00:00\",\"2017-04-04T00:00:00\",\"2017-04-11T00:00:00\",\"2017-04-18T00:00:00\",\"2017-04-25T00:00:00\",\"2017-05-02T00:00:00\",\"2017-05-09T00:00:00\",\"2017-05-16T00:00:00\",\"2017-05-23T00:00:00\",\"2017-05-30T00:00:00\",\"2017-06-06T00:00:00\",\"2017-06-13T00:00:00\",\"2017-06-20T00:00:00\",\"2017-06-27T00:00:00\",\"2017-07-11T00:00:00\",\"2017-07-18T00:00:00\",\"2017-07-25T00:00:00\",\"2017-08-01T00:00:00\",\"2017-08-08T00:00:00\",\"2017-08-15T00:00:00\",\"2017-08-22T00:00:00\",\"2017-08-29T00:00:00\",\"2017-09-05T00:00:00\",\"2017-09-12T00:00:00\",\"2017-09-19T00:00:00\",\"2017-09-26T00:00:00\",\"2017-10-03T00:00:00\",\"2017-10-10T00:00:00\",\"2017-10-17T00:00:00\",\"2017-10-24T00:00:00\",\"2017-10-31T00:00:00\",\"2017-11-07T00:00:00\",\"2017-11-14T00:00:00\",\"2017-11-21T00:00:00\",\"2017-11-28T00:00:00\",\"2017-12-05T00:00:00\",\"2017-12-12T00:00:00\",\"2017-12-19T00:00:00\",\"2017-12-26T00:00:00\",\"2018-01-02T00:00:00\",\"2018-01-09T00:00:00\",\"2018-01-16T00:00:00\",\"2018-01-23T00:00:00\",\"2018-01-30T00:00:00\",\"2018-02-06T00:00:00\",\"2018-02-13T00:00:00\",\"2018-02-20T00:00:00\",\"2018-02-27T00:00:00\",\"2018-03-06T00:00:00\",\"2018-03-13T00:00:00\",\"2018-03-20T00:00:00\",\"2018-03-27T00:00:00\",\"2018-04-03T00:00:00\",\"2018-04-10T00:00:00\",\"2018-04-17T00:00:00\",\"2018-04-24T00:00:00\",\"2018-05-01T00:00:00\",\"2018-05-08T00:00:00\",\"2018-05-15T00:00:00\",\"2018-05-22T00:00:00\",\"2018-05-29T00:00:00\",\"2018-06-05T00:00:00\",\"2018-06-12T00:00:00\",\"2018-06-19T00:00:00\",\"2018-06-26T00:00:00\",\"2018-07-03T00:00:00\",\"2018-07-10T00:00:00\",\"2018-07-17T00:00:00\",\"2018-07-24T00:00:00\",\"2018-07-31T00:00:00\",\"2018-08-07T00:00:00\",\"2018-08-14T00:00:00\",\"2018-08-21T00:00:00\",\"2018-08-28T00:00:00\",\"2018-09-04T00:00:00\",\"2018-09-11T00:00:00\",\"2018-09-18T00:00:00\",\"2018-09-25T00:00:00\",\"2018-10-02T00:00:00\",\"2018-10-09T00:00:00\",\"2018-10-16T00:00:00\",\"2018-10-23T00:00:00\",\"2018-10-30T00:00:00\",\"2018-11-06T00:00:00\",\"2018-11-13T00:00:00\",\"2018-11-20T00:00:00\",\"2018-11-27T00:00:00\",\"2018-12-04T00:00:00\",\"2018-12-11T00:00:00\",\"2018-12-18T00:00:00\",\"2019-01-08T00:00:00\",\"2019-01-15T00:00:00\",\"2019-01-22T00:00:00\",\"2019-01-29T00:00:00\",\"2019-02-05T00:00:00\",\"2019-02-12T00:00:00\",\"2019-02-19T00:00:00\",\"2019-02-26T00:00:00\",\"2019-03-05T00:00:00\",\"2019-03-12T00:00:00\",\"2019-03-19T00:00:00\",\"2019-03-26T00:00:00\",\"2019-04-02T00:00:00\",\"2019-04-09T00:00:00\",\"2019-04-16T00:00:00\",\"2019-04-23T00:00:00\",\"2019-04-30T00:00:00\",\"2019-05-07T00:00:00\",\"2019-05-14T00:00:00\",\"2019-05-21T00:00:00\",\"2019-05-28T00:00:00\",\"2019-06-04T00:00:00\",\"2019-06-11T00:00:00\",\"2019-06-18T00:00:00\",\"2019-06-25T00:00:00\",\"2019-07-02T00:00:00\",\"2019-07-09T00:00:00\",\"2019-07-16T00:00:00\",\"2019-07-23T00:00:00\",\"2019-07-30T00:00:00\",\"2019-08-06T00:00:00\",\"2019-08-13T00:00:00\",\"2019-08-20T00:00:00\",\"2019-08-27T00:00:00\",\"2019-09-03T00:00:00\",\"2019-09-10T00:00:00\",\"2019-09-17T00:00:00\",\"2019-09-24T00:00:00\",\"2019-10-01T00:00:00\",\"2019-10-08T00:00:00\",\"2019-10-15T00:00:00\",\"2019-10-22T00:00:00\",\"2019-10-29T00:00:00\",\"2019-11-05T00:00:00\",\"2019-11-12T00:00:00\",\"2019-11-19T00:00:00\",\"2019-11-26T00:00:00\",\"2019-12-03T00:00:00\",\"2019-12-10T00:00:00\",\"2019-12-17T00:00:00\",\"2019-12-24T00:00:00\",\"2019-12-31T00:00:00\",\"2020-01-07T00:00:00\",\"2020-01-14T00:00:00\",\"2020-01-21T00:00:00\",\"2020-01-28T00:00:00\",\"2020-02-04T00:00:00\",\"2020-02-11T00:00:00\",\"2020-02-18T00:00:00\",\"2020-02-25T00:00:00\",\"2020-03-03T00:00:00\",\"2020-03-10T00:00:00\",\"2020-03-17T00:00:00\",\"2020-03-24T00:00:00\",\"2020-03-31T00:00:00\",\"2020-04-07T00:00:00\",\"2020-04-14T00:00:00\",\"2020-04-21T00:00:00\",\"2020-04-28T00:00:00\",\"2020-05-05T00:00:00\",\"2020-05-12T00:00:00\",\"2020-05-19T00:00:00\",\"2020-05-26T00:00:00\",\"2020-06-02T00:00:00\",\"2020-06-09T00:00:00\",\"2020-06-16T00:00:00\",\"2020-06-23T00:00:00\",\"2020-06-30T00:00:00\",\"2020-07-07T00:00:00\",\"2020-07-14T00:00:00\",\"2020-07-21T00:00:00\",\"2020-07-28T00:00:00\",\"2020-08-04T00:00:00\",\"2020-08-11T00:00:00\",\"2020-08-18T00:00:00\",\"2020-08-25T00:00:00\",\"2020-09-01T00:00:00\",\"2020-09-08T00:00:00\",\"2020-09-15T00:00:00\",\"2020-09-22T00:00:00\",\"2020-09-29T00:00:00\",\"2020-10-06T00:00:00\",\"2020-10-13T00:00:00\",\"2020-10-20T00:00:00\",\"2020-10-27T00:00:00\",\"2020-11-03T00:00:00\",\"2020-11-10T00:00:00\",\"2020-11-17T00:00:00\",\"2020-11-24T00:00:00\",\"2020-12-01T00:00:00\",\"2020-12-08T00:00:00\",\"2020-12-15T00:00:00\",\"2020-12-21T00:00:00\",\"2020-12-29T00:00:00\",\"2021-01-05T00:00:00\",\"2021-01-12T00:00:00\",\"2021-01-19T00:00:00\",\"2021-01-26T00:00:00\",\"2021-02-02T00:00:00\",\"2021-02-09T00:00:00\",\"2021-02-16T00:00:00\",\"2021-02-23T00:00:00\",\"2021-03-02T00:00:00\",\"2021-03-09T00:00:00\",\"2021-03-16T00:00:00\",\"2021-03-23T00:00:00\",\"2021-03-30T00:00:00\",\"2021-04-06T00:00:00\",\"2021-04-13T00:00:00\",\"2021-04-20T00:00:00\",\"2021-04-27T00:00:00\",\"2021-05-04T00:00:00\",\"2021-05-11T00:00:00\",\"2021-05-18T00:00:00\",\"2021-05-25T00:00:00\",\"2021-06-01T00:00:00\",\"2021-06-08T00:00:00\",\"2021-06-15T00:00:00\",\"2021-06-22T00:00:00\",\"2021-06-29T00:00:00\",\"2021-07-06T00:00:00\",\"2021-07-13T00:00:00\",\"2021-07-20T00:00:00\",\"2021-07-27T00:00:00\",\"2021-08-03T00:00:00\",\"2021-08-10T00:00:00\",\"2021-08-17T00:00:00\",\"2021-08-24T00:00:00\",\"2021-08-31T00:00:00\",\"2021-09-07T00:00:00\",\"2021-09-14T00:00:00\",\"2021-09-21T00:00:00\",\"2021-09-28T00:00:00\",\"2021-10-05T00:00:00\",\"2021-10-12T00:00:00\",\"2021-10-19T00:00:00\",\"2021-10-26T00:00:00\",\"2021-11-02T00:00:00\",\"2021-11-09T00:00:00\",\"2021-11-16T00:00:00\",\"2021-11-23T00:00:00\",\"2021-11-30T00:00:00\",\"2021-12-07T00:00:00\",\"2021-12-14T00:00:00\",\"2021-12-21T00:00:00\",\"2021-12-28T00:00:00\",\"2022-01-04T00:00:00\",\"2022-01-11T00:00:00\",\"2022-01-18T00:00:00\",\"2022-01-25T00:00:00\",\"2022-02-01T00:00:00\",\"2022-02-08T00:00:00\",\"2022-02-15T00:00:00\",\"2022-02-22T00:00:00\",\"2022-03-01T00:00:00\",\"2022-03-08T00:00:00\",\"2022-03-15T00:00:00\",\"2022-03-22T00:00:00\",\"2022-03-29T00:00:00\",\"2022-04-05T00:00:00\",\"2022-04-12T00:00:00\",\"2022-04-19T00:00:00\",\"2022-04-26T00:00:00\",\"2022-05-03T00:00:00\",\"2022-05-10T00:00:00\",\"2022-05-17T00:00:00\",\"2022-05-24T00:00:00\",\"2022-05-31T00:00:00\",\"2022-06-07T00:00:00\",\"2022-06-14T00:00:00\",\"2022-06-21T00:00:00\",\"2022-06-28T00:00:00\",\"2022-07-05T00:00:00\",\"2022-07-12T00:00:00\",\"2022-07-19T00:00:00\",\"2022-07-26T00:00:00\",\"2022-08-02T00:00:00\",\"2022-08-09T00:00:00\",\"2022-08-16T00:00:00\",\"2022-08-23T00:00:00\",\"2022-08-30T00:00:00\",\"2022-09-06T00:00:00\",\"2022-09-13T00:00:00\",\"2022-09-20T00:00:00\",\"2022-09-27T00:00:00\",\"2022-10-04T00:00:00\",\"2022-10-11T00:00:00\",\"2022-10-18T00:00:00\",\"2022-10-25T00:00:00\",\"2022-11-01T00:00:00\",\"2022-11-08T00:00:00\",\"2022-11-15T00:00:00\",\"2022-11-22T00:00:00\",\"2022-11-29T00:00:00\",\"2022-12-06T00:00:00\",\"2022-12-13T00:00:00\",\"2022-12-20T00:00:00\",\"2022-12-27T00:00:00\",\"2023-01-03T00:00:00\",\"2023-01-10T00:00:00\",\"2023-01-17T00:00:00\",\"2023-01-24T00:00:00\",\"2023-01-31T00:00:00\",\"2023-02-07T00:00:00\",\"2023-02-14T00:00:00\",\"2023-02-21T00:00:00\",\"2023-02-28T00:00:00\",\"2023-03-07T00:00:00\",\"2023-03-14T00:00:00\",\"2023-03-21T00:00:00\",\"2023-03-28T00:00:00\",\"2023-04-04T00:00:00\",\"2023-04-11T00:00:00\",\"2023-04-18T00:00:00\",\"2023-04-25T00:00:00\",\"2023-05-02T00:00:00\",\"2023-05-09T00:00:00\",\"2023-05-16T00:00:00\",\"2023-05-23T00:00:00\",\"2023-05-30T00:00:00\"],\"y\":[68.48,69.3,72.05,74.05,73.87,73.46,74.93,76.29,72.95,72.55,69.74,68.7,63.81,61.77,60.63,58.64,58.5,58.91,57.55,58.72,58.94,58.28,58.01,60.97,62.4,61.06,62.87,61.07,58.31,55.65,51.23,53.61,57.03,58.91,58.98,58.32,61.46,60.66,58.03,56.41,62.98,64.59,61.92,63.14,64.1,64.43,62.26,63.16,64.91,63.19,65.63,65.36,69.15,67.78,71.41,72.8,74.03,73.38,78.2,72.25,72.4,69.49,71.79,75.07,78.16,81.51,81.2,80.0,80.23,87.58,86.45,90.33,96.65,91.18,99.16,94.39,88.31,90.12,89.93,94.0,95.95,96.43,91.87,89.64,91.66,88.32,92.82,99.99,100.83,99.72,108.73,109.57,101.78,100.92,108.54,113.77,119.17,115.67,121.82,125.83,128.93,128.81,124.33,131.38,133.99,136.49,141.06,136.06,138.68,127.25,122.21,118.71,113.1,114.39,116.31,109.63,103.23,91.49,107.85,100.7,90.18,78.69,71.29,62.8,70.41,59.38,54.42,50.02,47.05,42.0,43.84,31.1,38.95,48.56,37.77,38.57,41.67,40.87,37.54,34.96,38.86,41.57,45.68,48.97,53.36,49.64,49.13,49.51,46.65,49.01,53.81,58.81,59.52,62.48,68.58,70.02,70.47,68.81,69.82,62.88,59.62,64.81,67.24,71.4,69.46,69.22,71.6,68.11,71.08,70.81,71.5,66.56,70.71,74.1,78.87,79.45,79.58,79.44,79.08,74.88,78.39,72.59,70.62,73.48,78.87,81.74,80.79,78.98,74.67,77.21,73.71,76.98,78.61,79.62,81.5,81.75,81.68,82.14,86.54,83.8,82.98,82.43,82.73,76.37,69.38,64.78,72.7,71.88,76.84,77.15,75.93,71.96,77.16,77.32,77.46,82.52,80.24,75.76,71.24,71.93,73.98,76.78,72.96,76.15,82.83,81.67,79.57,82.6,83.91,87.04,82.33,80.79,84.12,88.69,88.33,89.3,91.48,89.39,91.11,91.38,85.08,89.54,85.85,83.13,92.65,99.63,105.06,97.23,104.53,104.34,107.82,105.75,107.18,111.72,110.6,103.39,96.4,99.13,102.7,99.18,99.37,93.7,92.9,96.92,97.41,97.49,99.61,93.78,79.32,86.65,85.35,88.9,85.99,90.21,86.92,84.18,75.4,85.54,88.34,92.98,92.19,96.8,99.37,97.76,99.79,101.25,100.24,97.16,101.29,102.96,102.24,100.7,98.84,98.46,98.55,100.82,105.88,106.59,104.71,106.7,105.68,107.32,104.02,101.12,104.23,103.1,106.17,97.13,93.97,91.44,90.75,84.31,83.35,83.99,79.34,87.74,83.92,89.07,88.28,88.08,93.68,93.4,96.55,96.3,95.34,97.03,95.25,91.07,91.88,92.42,92.07,86.65,85.65,88.62,85.38,86.46,86.81,88.04,85.36,87.46,88.29,91.83,93.21,93.26,96.09,97.62,96.68,97.48,96.69,92.63,90.88,92.44,92.44,95.99,97.23,94.18,88.73,89.21,93.22,95.28,93.96,95.55,94.65,93.36,95.5,98.46,95.25,99.65,103.46,105.88,107.13,103.14,105.32,106.78,104.9,109.11,108.67,107.48,105.36,103.22,102.09,103.54,101.15,97.63,98.29,93.4,93.12,93.35,93.41,95.83,98.32,96.99,98.87,98.17,93.31,92.15,94.51,97.49,97.24,99.96,102.54,102.2,103.64,100.29,100.08,99.66,99.69,102.57,103.7,101.69,101.56,99.81,102.01,102.8,104.78,103.34,105.02,106.95,106.64,106.06,104.06,100.56,104.59,104.91,97.34,97.36,94.35,95.78,92.92,92.73,94.91,91.55,91.17,88.89,81.72,83.25,81.36,77.15,77.85,74.55,74.04,66.99,63.74,55.97,56.78,54.14,47.98,45.92,46.79,45.84,53.04,50.06,53.56,48.48,50.43,48.42,43.39,47.03,47.72,53.95,53.3,55.58,57.05,60.38,60.72,57.3,57.29,61.3,60.15,60.01,61.05,59.48,52.33,53.05,50.59,47.97,45.75,43.11,42.58,39.15,45.38,45.92,44.58,46.17,45.24,48.53,46.7,45.84,43.21,47.88,44.23,40.73,40.89,40.58,37.46,37.32,36.12,37.88,35.97,30.42,28.47,29.54,29.9,27.96,29.05,31.84,34.39,36.67,36.32,41.45,36.91,34.52,42.12,40.88,42.52,43.65,44.68,48.29,48.04,49.1,50.37,48.49,48.95,47.93,46.73,46.82,44.64,42.16,39.5,42.78,46.57,47.54,46.32,44.85,44.91,43.85,44.65,48.67,50.72,50.3,49.45,46.66,44.96,45.86,48.07,45.29,50.95,52.99,52.22,52.82,52.36,50.82,52.45,52.38,52.75,52.19,53.21,54.02,54.0,52.68,47.24,47.02,48.36,50.99,53.38,52.46,49.22,47.65,45.84,48.64,51.12,49.63,48.13,46.41,43.34,44.25,45.06,46.4,47.77,49.19,49.07,47.57,47.65,46.46,48.63,48.21,49.54,51.59,50.44,50.93,51.87,52.32,54.36,57.19,55.67,56.84,57.96,57.66,57.12,57.49,59.55,60.37,62.92,63.82,64.45,64.64,63.48,59.33,61.91,62.94,62.54,60.69,63.37,65.21,63.41,65.48,66.5,67.66,67.28,68.83,71.34,72.09,66.8,65.51,66.38,65.09,75.23,74.19,74.11,68.03,70.77,69.88,69.17,67.04,67.32,68.54,69.82,69.29,69.87,73.4,75.16,74.95,71.93,66.49,66.18,62.16,55.63,53.39,51.31,53.21,51.65,46.12,49.58,51.8,52.59,53.07,53.69,53.14,56.12,55.4,56.55,56.89,59.12,59.87,62.53,64.05,64.01,66.24,63.83,61.41,61.82,63.02,58.91,53.5,53.3,53.86,57.63,56.0,57.57,57.44,56.58,58.04,53.6,57.05,56.18,54.99,53.91,57.37,59.26,57.22,53.6,52.64,52.81,54.21,55.34,57.04,56.67,54.93,58.25,56.15,59.22,60.88,61.17,61.14,62.7,58.34,58.25,53.33,49.59,50.0,52.1,49.78,47.27,34.47,26.96,21.03,20.51,23.54,20.15,8.91,12.4,24.56,25.76,32.3,34.7,36.88,38.98,38.26,40.4,39.27,40.59,40.3,41.76,40.89,41.67,41.53,42.89,43.17,42.76,36.87,38.29,39.55,39.03,40.52,40.03,41.37,39.34,37.44,41.18,41.24,44.71,44.54,45.64,47.58,47.79,47.85,49.78,53.08,52.87,52.61,54.77,58.34,60.07,61.66,59.7,64.02,64.82,57.75,60.55,59.34,60.2,62.61,63.03,65.72,65.31,65.49,66.27,67.8,70.11,72.06,73.15,73.14,73.62,75.24,67.32,71.68,70.64,68.33,66.5,67.5,68.43,68.49,70.53,70.51,75.44,79.17,80.75,83.19,85.64,83.91,84.12,80.76,78.32,66.14,71.94,70.57,71.1,76.01,77.0,81.17,85.42,86.61,88.22,89.32,92.07,92.11,103.66,123.64,96.42,111.03,104.25,101.98,100.52,102.54,102.62,102.53,99.74,112.31,112.55,114.38,119.55,118.92,110.49,113.66,101.55,97.69,106.12,97.74,97.14,93.18,89.23,96.46,92.08,87.35,87.84,84.69,78.91,86.87,89.75,83.29,86.93,88.36,88.8,86.87,80.83,77.96,74.21,75.44,75.92,79.45,76.87,75.11,80.25,79.86,78.95,77.17,79.08,76.28,76.88,77.45,71.18,69.4,73.12,80.7,81.54,80.85,77.05,71.71,73.68,70.85,72.87,69.45],\"type\":\"scatter\",\"xaxis\":\"x\",\"yaxis\":\"y2\"}],                        {\"template\":{\"data\":{\"histogram2dcontour\":[{\"type\":\"histogram2dcontour\",\"colorbar\":{\"outlinewidth\":0,\"ticks\":\"\"},\"colorscale\":[[0.0,\"#0d0887\"],[0.1111111111111111,\"#46039f\"],[0.2222222222222222,\"#7201a8\"],[0.3333333333333333,\"#9c179e\"],[0.4444444444444444,\"#bd3786\"],[0.5555555555555556,\"#d8576b\"],[0.6666666666666666,\"#ed7953\"],[0.7777777777777778,\"#fb9f3a\"],[0.8888888888888888,\"#fdca26\"],[1.0,\"#f0f921\"]]}],\"choropleth\":[{\"type\":\"choropleth\",\"colorbar\":{\"outlinewidth\":0,\"ticks\":\"\"}}],\"histogram2d\":[{\"type\":\"histogram2d\",\"colorbar\":{\"outlinewidth\":0,\"ticks\":\"\"},\"colorscale\":[[0.0,\"#0d0887\"],[0.1111111111111111,\"#46039f\"],[0.2222222222222222,\"#7201a8\"],[0.3333333333333333,\"#9c179e\"],[0.4444444444444444,\"#bd3786\"],[0.5555555555555556,\"#d8576b\"],[0.6666666666666666,\"#ed7953\"],[0.7777777777777778,\"#fb9f3a\"],[0.8888888888888888,\"#fdca26\"],[1.0,\"#f0f921\"]]}],\"heatmap\":[{\"type\":\"heatmap\",\"colorbar\":{\"outlinewidth\":0,\"ticks\":\"\"},\"colorscale\":[[0.0,\"#0d0887\"],[0.1111111111111111,\"#46039f\"],[0.2222222222222222,\"#7201a8\"],[0.3333333333333333,\"#9c179e\"],[0.4444444444444444,\"#bd3786\"],[0.5555555555555556,\"#d8576b\"],[0.6666666666666666,\"#ed7953\"],[0.7777777777777778,\"#fb9f3a\"],[0.8888888888888888,\"#fdca26\"],[1.0,\"#f0f921\"]]}],\"heatmapgl\":[{\"type\":\"heatmapgl\",\"colorbar\":{\"outlinewidth\":0,\"ticks\":\"\"},\"colorscale\":[[0.0,\"#0d0887\"],[0.1111111111111111,\"#46039f\"],[0.2222222222222222,\"#7201a8\"],[0.3333333333333333,\"#9c179e\"],[0.4444444444444444,\"#bd3786\"],[0.5555555555555556,\"#d8576b\"],[0.6666666666666666,\"#ed7953\"],[0.7777777777777778,\"#fb9f3a\"],[0.8888888888888888,\"#fdca26\"],[1.0,\"#f0f921\"]]}],\"contourcarpet\":[{\"type\":\"contourcarpet\",\"colorbar\":{\"outlinewidth\":0,\"ticks\":\"\"}}],\"contour\":[{\"type\":\"contour\",\"colorbar\":{\"outlinewidth\":0,\"ticks\":\"\"},\"colorscale\":[[0.0,\"#0d0887\"],[0.1111111111111111,\"#46039f\"],[0.2222222222222222,\"#7201a8\"],[0.3333333333333333,\"#9c179e\"],[0.4444444444444444,\"#bd3786\"],[0.5555555555555556,\"#d8576b\"],[0.6666666666666666,\"#ed7953\"],[0.7777777777777778,\"#fb9f3a\"],[0.8888888888888888,\"#fdca26\"],[1.0,\"#f0f921\"]]}],\"surface\":[{\"type\":\"surface\",\"colorbar\":{\"outlinewidth\":0,\"ticks\":\"\"},\"colorscale\":[[0.0,\"#0d0887\"],[0.1111111111111111,\"#46039f\"],[0.2222222222222222,\"#7201a8\"],[0.3333333333333333,\"#9c179e\"],[0.4444444444444444,\"#bd3786\"],[0.5555555555555556,\"#d8576b\"],[0.6666666666666666,\"#ed7953\"],[0.7777777777777778,\"#fb9f3a\"],[0.8888888888888888,\"#fdca26\"],[1.0,\"#f0f921\"]]}],\"mesh3d\":[{\"type\":\"mesh3d\",\"colorbar\":{\"outlinewidth\":0,\"ticks\":\"\"}}],\"scatter\":[{\"fillpattern\":{\"fillmode\":\"overlay\",\"size\":10,\"solidity\":0.2},\"type\":\"scatter\"}],\"parcoords\":[{\"type\":\"parcoords\",\"line\":{\"colorbar\":{\"outlinewidth\":0,\"ticks\":\"\"}}}],\"scatterpolargl\":[{\"type\":\"scatterpolargl\",\"marker\":{\"colorbar\":{\"outlinewidth\":0,\"ticks\":\"\"}}}],\"bar\":[{\"error_x\":{\"color\":\"#2a3f5f\"},\"error_y\":{\"color\":\"#2a3f5f\"},\"marker\":{\"line\":{\"color\":\"#E5ECF6\",\"width\":0.5},\"pattern\":{\"fillmode\":\"overlay\",\"size\":10,\"solidity\":0.2}},\"type\":\"bar\"}],\"scattergeo\":[{\"type\":\"scattergeo\",\"marker\":{\"colorbar\":{\"outlinewidth\":0,\"ticks\":\"\"}}}],\"scatterpolar\":[{\"type\":\"scatterpolar\",\"marker\":{\"colorbar\":{\"outlinewidth\":0,\"ticks\":\"\"}}}],\"histogram\":[{\"marker\":{\"pattern\":{\"fillmode\":\"overlay\",\"size\":10,\"solidity\":0.2}},\"type\":\"histogram\"}],\"scattergl\":[{\"type\":\"scattergl\",\"marker\":{\"colorbar\":{\"outlinewidth\":0,\"ticks\":\"\"}}}],\"scatter3d\":[{\"type\":\"scatter3d\",\"line\":{\"colorbar\":{\"outlinewidth\":0,\"ticks\":\"\"}},\"marker\":{\"colorbar\":{\"outlinewidth\":0,\"ticks\":\"\"}}}],\"scattermapbox\":[{\"type\":\"scattermapbox\",\"marker\":{\"colorbar\":{\"outlinewidth\":0,\"ticks\":\"\"}}}],\"scatterternary\":[{\"type\":\"scatterternary\",\"marker\":{\"colorbar\":{\"outlinewidth\":0,\"ticks\":\"\"}}}],\"scattercarpet\":[{\"type\":\"scattercarpet\",\"marker\":{\"colorbar\":{\"outlinewidth\":0,\"ticks\":\"\"}}}],\"carpet\":[{\"aaxis\":{\"endlinecolor\":\"#2a3f5f\",\"gridcolor\":\"white\",\"linecolor\":\"white\",\"minorgridcolor\":\"white\",\"startlinecolor\":\"#2a3f5f\"},\"baxis\":{\"endlinecolor\":\"#2a3f5f\",\"gridcolor\":\"white\",\"linecolor\":\"white\",\"minorgridcolor\":\"white\",\"startlinecolor\":\"#2a3f5f\"},\"type\":\"carpet\"}],\"table\":[{\"cells\":{\"fill\":{\"color\":\"#EBF0F8\"},\"line\":{\"color\":\"white\"}},\"header\":{\"fill\":{\"color\":\"#C8D4E3\"},\"line\":{\"color\":\"white\"}},\"type\":\"table\"}],\"barpolar\":[{\"marker\":{\"line\":{\"color\":\"#E5ECF6\",\"width\":0.5},\"pattern\":{\"fillmode\":\"overlay\",\"size\":10,\"solidity\":0.2}},\"type\":\"barpolar\"}],\"pie\":[{\"automargin\":true,\"type\":\"pie\"}]},\"layout\":{\"autotypenumbers\":\"strict\",\"colorway\":[\"#636efa\",\"#EF553B\",\"#00cc96\",\"#ab63fa\",\"#FFA15A\",\"#19d3f3\",\"#FF6692\",\"#B6E880\",\"#FF97FF\",\"#FECB52\"],\"font\":{\"color\":\"#2a3f5f\"},\"hovermode\":\"closest\",\"hoverlabel\":{\"align\":\"left\"},\"paper_bgcolor\":\"white\",\"plot_bgcolor\":\"#E5ECF6\",\"polar\":{\"bgcolor\":\"#E5ECF6\",\"angularaxis\":{\"gridcolor\":\"white\",\"linecolor\":\"white\",\"ticks\":\"\"},\"radialaxis\":{\"gridcolor\":\"white\",\"linecolor\":\"white\",\"ticks\":\"\"}},\"ternary\":{\"bgcolor\":\"#E5ECF6\",\"aaxis\":{\"gridcolor\":\"white\",\"linecolor\":\"white\",\"ticks\":\"\"},\"baxis\":{\"gridcolor\":\"white\",\"linecolor\":\"white\",\"ticks\":\"\"},\"caxis\":{\"gridcolor\":\"white\",\"linecolor\":\"white\",\"ticks\":\"\"}},\"coloraxis\":{\"colorbar\":{\"outlinewidth\":0,\"ticks\":\"\"}},\"colorscale\":{\"sequential\":[[0.0,\"#0d0887\"],[0.1111111111111111,\"#46039f\"],[0.2222222222222222,\"#7201a8\"],[0.3333333333333333,\"#9c179e\"],[0.4444444444444444,\"#bd3786\"],[0.5555555555555556,\"#d8576b\"],[0.6666666666666666,\"#ed7953\"],[0.7777777777777778,\"#fb9f3a\"],[0.8888888888888888,\"#fdca26\"],[1.0,\"#f0f921\"]],\"sequentialminus\":[[0.0,\"#0d0887\"],[0.1111111111111111,\"#46039f\"],[0.2222222222222222,\"#7201a8\"],[0.3333333333333333,\"#9c179e\"],[0.4444444444444444,\"#bd3786\"],[0.5555555555555556,\"#d8576b\"],[0.6666666666666666,\"#ed7953\"],[0.7777777777777778,\"#fb9f3a\"],[0.8888888888888888,\"#fdca26\"],[1.0,\"#f0f921\"]],\"diverging\":[[0,\"#8e0152\"],[0.1,\"#c51b7d\"],[0.2,\"#de77ae\"],[0.3,\"#f1b6da\"],[0.4,\"#fde0ef\"],[0.5,\"#f7f7f7\"],[0.6,\"#e6f5d0\"],[0.7,\"#b8e186\"],[0.8,\"#7fbc41\"],[0.9,\"#4d9221\"],[1,\"#276419\"]]},\"xaxis\":{\"gridcolor\":\"white\",\"linecolor\":\"white\",\"ticks\":\"\",\"title\":{\"standoff\":15},\"zerolinecolor\":\"white\",\"automargin\":true,\"zerolinewidth\":2},\"yaxis\":{\"gridcolor\":\"white\",\"linecolor\":\"white\",\"ticks\":\"\",\"title\":{\"standoff\":15},\"zerolinecolor\":\"white\",\"automargin\":true,\"zerolinewidth\":2},\"scene\":{\"xaxis\":{\"backgroundcolor\":\"#E5ECF6\",\"gridcolor\":\"white\",\"linecolor\":\"white\",\"showbackground\":true,\"ticks\":\"\",\"zerolinecolor\":\"white\",\"gridwidth\":2},\"yaxis\":{\"backgroundcolor\":\"#E5ECF6\",\"gridcolor\":\"white\",\"linecolor\":\"white\",\"showbackground\":true,\"ticks\":\"\",\"zerolinecolor\":\"white\",\"gridwidth\":2},\"zaxis\":{\"backgroundcolor\":\"#E5ECF6\",\"gridcolor\":\"white\",\"linecolor\":\"white\",\"showbackground\":true,\"ticks\":\"\",\"zerolinecolor\":\"white\",\"gridwidth\":2}},\"shapedefaults\":{\"line\":{\"color\":\"#2a3f5f\"}},\"annotationdefaults\":{\"arrowcolor\":\"#2a3f5f\",\"arrowhead\":0,\"arrowwidth\":1},\"geo\":{\"bgcolor\":\"white\",\"landcolor\":\"#E5ECF6\",\"subunitcolor\":\"white\",\"showland\":true,\"showlakes\":true,\"lakecolor\":\"white\"},\"title\":{\"x\":0.05},\"mapbox\":{\"style\":\"light\"}}},\"xaxis\":{\"anchor\":\"y\",\"domain\":[0.0,0.94],\"title\":{\"text\":\"\\u0414\\u0430\\u0442\\u0430\"}},\"yaxis\":{\"anchor\":\"x\",\"domain\":[0.0,1.0],\"title\":{\"text\":\"<b>OI</b>\"}},\"yaxis2\":{\"anchor\":\"x\",\"overlaying\":\"y\",\"side\":\"right\",\"title\":{\"text\":\"<b>price_WTI</b>\"}},\"title\":{\"text\":\"\\u0418\\u0437\\u043c\\u0435\\u043d\\u0435\\u043d\\u0438\\u0435 \\u043e\\u0442\\u043a\\u0440\\u044b\\u0442\\u044b\\u0445 \\u043f\\u043e\\u0437\\u0438\\u0446\\u0438\\u0439 \\u0438 \\u0446\\u0435\\u043d\\u044b WTI\"},\"shapes\":[{\"fillcolor\":\"red\",\"line\":{\"width\":0},\"opacity\":0.25,\"type\":\"rect\",\"x0\":\"2008-07-01\",\"x1\":\"2008-12-22\",\"xref\":\"x\",\"y0\":0,\"y1\":1,\"yref\":\"y domain\"},{\"fillcolor\":\"red\",\"line\":{\"width\":0},\"opacity\":0.25,\"type\":\"rect\",\"x0\":\"2014-06-17\",\"x1\":\"2016-02-09\",\"xref\":\"x\",\"y0\":0,\"y1\":1,\"yref\":\"y domain\"},{\"fillcolor\":\"red\",\"line\":{\"width\":0},\"opacity\":0.25,\"type\":\"rect\",\"x0\":\"2020-01-07\",\"x1\":\"2020-04-21\",\"xref\":\"x\",\"y0\":0,\"y1\":1,\"yref\":\"y domain\"},{\"fillcolor\":\"red\",\"line\":{\"width\":0},\"opacity\":0.25,\"type\":\"rect\",\"x0\":\"2022-06-07\",\"x1\":\"2023-05-30\",\"xref\":\"x\",\"y0\":0,\"y1\":1,\"yref\":\"y domain\"}],\"annotations\":[{\"showarrow\":false,\"text\":\"-78%\",\"x\":\"2008-07-01\",\"xanchor\":\"left\",\"xref\":\"x\",\"y\":1,\"yanchor\":\"top\",\"yref\":\"y domain\"},{\"showarrow\":false,\"text\":\"-73%\",\"x\":\"2014-06-17\",\"xanchor\":\"left\",\"xref\":\"x\",\"y\":1,\"yanchor\":\"top\",\"yref\":\"y domain\"},{\"showarrow\":false,\"text\":\"-86%\",\"x\":\"2020-01-07\",\"xanchor\":\"left\",\"xref\":\"x\",\"y\":1,\"yanchor\":\"top\",\"yref\":\"y domain\"},{\"showarrow\":false,\"text\":\"-42%\",\"x\":\"2022-06-07\",\"xanchor\":\"left\",\"xref\":\"x\",\"y\":1,\"yanchor\":\"top\",\"yref\":\"y domain\"}]},                        {\"responsive\": true}                    ).then(function(){\n",
              "                            \n",
              "var gd = document.getElementById('ed177904-cdd8-4cac-9b27-0ca39853d0f3');\n",
              "var x = new MutationObserver(function (mutations, observer) {{\n",
              "        var display = window.getComputedStyle(gd).display;\n",
              "        if (!display || display === 'none') {{\n",
              "            console.log([gd, 'removed!']);\n",
              "            Plotly.purge(gd);\n",
              "            observer.disconnect();\n",
              "        }}\n",
              "}});\n",
              "\n",
              "// Listen for the removal of the full notebook cells\n",
              "var notebookContainer = gd.closest('#notebook-container');\n",
              "if (notebookContainer) {{\n",
              "    x.observe(notebookContainer, {childList: true});\n",
              "}}\n",
              "\n",
              "// Listen for the clearing of the current output cell\n",
              "var outputEl = gd.closest('.output');\n",
              "if (outputEl) {{\n",
              "    x.observe(outputEl, {childList: true});\n",
              "}}\n",
              "\n",
              "                        })                };                            </script>        </div>\n",
              "</body>\n",
              "</html>"
            ]
          },
          "metadata": {}
        }
      ]
    },
    {
      "cell_type": "code",
      "source": [
        "# data_wti.to_csv('data_wti.csv')"
      ],
      "metadata": {
        "id": "MEiCWrnk0FsT"
      },
      "execution_count": 42,
      "outputs": []
    },
    {
      "cell_type": "markdown",
      "source": [
        "## Загрузка данных с ICE, позиции по Brent"
      ],
      "metadata": {
        "id": "ogb1ZHs6GkeO"
      }
    },
    {
      "cell_type": "code",
      "source": [
        "# Ячейку можно не выполнять, а перейти к следующей и загрузить\n",
        "columns = ['date', 'oi', 'prod_merc_long', 'prod_merc_short', 'swap_long',\n",
        "           'swap_short', 'swap_spread', 'm_money_long', 'm_money_short',\n",
        "           'm_money_spread', 'other_rept_long', 'other_rept_short',\n",
        "           'other_rept_spread', 'nonrept_long', 'nonrept_short']\n",
        "! mkdir COT_Brent\n",
        "years = [str(x) for x in range(2011, 2024)]\n",
        "\n",
        "for year in years:\n",
        "    url = f'https://www.theice.com/publicdocs/futures/COTHist{year}.csv'\n",
        "    ! wget $url\n",
        "    path = f'COTHist{year}.csv'\n",
        "    df = pd.read_csv(path)\n",
        "    df_brent = df[(df['CFTC_Commodity_Code'] == 'B') & (df['FutOnly_or_Combined'] == 'FutOnly')]\n",
        "    df_brent = df_brent.drop(df.iloc[:, 23:], axis=1)\n",
        "    df_brent = df_brent.drop(['Market_and_Exchange_Names', 'As_of_Date_Form_MM/DD/YYYY',\n",
        "                          'CFTC_Contract_Market_Code', 'CFTC_Market_Code', 'CFTC_Region_Code',\n",
        "                          'CFTC_Commodity_Code', 'Tot_Rept_Positions_Long_All',\n",
        "                          'Tot_Rept_Positions_Short_All'], axis=1)\n",
        "    if year == '2011':\n",
        "        df_brent.columns = columns\n",
        "        df_brent.to_csv('COT_Brent/COT_Brent.csv', mode='a', header=True, index = False)\n",
        "    else:\n",
        "        df_brent.to_csv('COT_Brent/COT_Brent.csv', mode='a', header=False, index = False)\n",
        "\n",
        "! rm *"
      ],
      "metadata": {
        "id": "U_MxGAJXlkSP"
      },
      "execution_count": null,
      "outputs": []
    },
    {
      "cell_type": "code",
      "source": [
        "url = '''https://raw.githubusercontent.com/ArtemMaximov77/Analysis_of_traders_positions/\\\n",
        "main/Disaggregated%20Futures%20Only%20Reports/COT_Brent.csv'''\n",
        "df_brent = pd.read_csv(url)"
      ],
      "metadata": {
        "id": "4Gl5214RMx0O"
      },
      "execution_count": 43,
      "outputs": []
    },
    {
      "cell_type": "code",
      "source": [
        "df_brent['date'] = pd.to_datetime(df_brent['date'], format='%y%m%d')"
      ],
      "metadata": {
        "id": "l-KaHJVvYcEl"
      },
      "execution_count": 44,
      "outputs": []
    },
    {
      "cell_type": "code",
      "source": [
        "df_brent.plot(x='date', y='oi');"
      ],
      "metadata": {
        "colab": {
          "base_uri": "https://localhost:8080/",
          "height": 437
        },
        "id": "d_3HR8RXYdJQ",
        "outputId": "a86689fb-d7db-4c00-df8b-9a82cd445a1e"
      },
      "execution_count": 71,
      "outputs": [
        {
          "output_type": "display_data",
          "data": {
            "text/plain": [
              "<Figure size 640x480 with 1 Axes>"
            ],
            "image/png": "[encoded data removed]"
          },
          "metadata": {}
        }
      ]
    },
    {
      "cell_type": "markdown",
      "source": [
        "## Загрузка котировок нефти Brent"
      ],
      "metadata": {
        "id": "YPm4UO199hRG"
      }
    },
    {
      "cell_type": "code",
      "source": [
        "url = '''https://raw.githubusercontent.com/ArtemMaximov77/Analysis_of_traders_positions/\\\n",
        "main/Disaggregated%20Futures%20Only%20Reports/Europe_Brent_Spot_Price.csv'''\n",
        "df_brent_price = pd.read_csv(url, skiprows=[0, 1, 2, 3, 4], names=['date', 'price_brent'])"
      ],
      "metadata": {
        "id": "hHDLg-Pa9ese"
      },
      "execution_count": 45,
      "outputs": []
    },
    {
      "cell_type": "code",
      "source": [
        "df_brent_price['date'] = pd.to_datetime(df_brent_price['date'], format='%m/%d/%Y')\n",
        "df_brent_price['date'] = df_brent_price['date'].dt.strftime('%Y-%m-%d')\n",
        "df_brent_price['date'] = pd.to_datetime(df_brent_price['date'], format='%Y-%m-%d')"
      ],
      "metadata": {
        "id": "CCLTEFGZ9epL"
      },
      "execution_count": 46,
      "outputs": []
    },
    {
      "cell_type": "code",
      "source": [
        "data_brent = df_brent.merge(df_brent_price, on='date')\n",
        "# 8 строк потеряно!"
      ],
      "metadata": {
        "id": "r7QgfaVE9eX0"
      },
      "execution_count": 47,
      "outputs": []
    },
    {
      "cell_type": "code",
      "source": [
        "data_brent.head()"
      ],
      "metadata": {
        "id": "mudTIVdT9eUu"
      },
      "execution_count": null,
      "outputs": []
    },
    {
      "cell_type": "code",
      "source": [
        "# data_brent.to_csv('data_brent.csv')"
      ],
      "metadata": {
        "id": "Rf87nOkt1ALP"
      },
      "execution_count": 48,
      "outputs": []
    },
    {
      "cell_type": "markdown",
      "source": [
        "## Загрузка данных с MOEX"
      ],
      "metadata": {
        "id": "Sbj8gdD0MdE8"
      }
    },
    {
      "cell_type": "markdown",
      "source": [
        "Фьючерс на нефть марки Brent на ММВБ имеет архив с 01-10-2012  \n",
        "Надо отметить, что здесь доступны ежедневные данные, в отличии от зарубежных еженедельных данных.  \n",
        "Поэтому будем брать данные по календарю биржи ICE.  \n",
        "Также здесь идет разбивка на физических и юридических лиц."
      ],
      "metadata": {
        "id": "QuTbPMmbg_4l"
      }
    },
    {
      "cell_type": "code",
      "source": [
        "calendar = data_brent[data_brent['date'] >= '2012-10-01']['date']"
      ],
      "metadata": {
        "id": "Io_Erj-tjhBx"
      },
      "execution_count": 178,
      "outputs": []
    },
    {
      "cell_type": "code",
      "source": [
        "calendar = calendar.astype('str').str.replace('-', '').to_list()"
      ],
      "metadata": {
        "id": "XDkQl5Szj1rF"
      },
      "execution_count": 179,
      "outputs": []
    },
    {
      "cell_type": "code",
      "source": [
        "# Этот цикл будет выполняться около 25 минут...\n",
        "# Поэтому лучше эту ячейку не выполнять, а скачать готовый файл, см. след. ячейку\n",
        "for day in tqdm.trange(calendar):\n",
        "    url = f'https://www.moex.com/ru/derivatives/open-positions-csv.aspx?d={day}&t=1'\n",
        "    ! wget $url\n",
        "    path = f'open-positions-csv.aspx?d={day}'\n",
        "    df = pd.read_csv(path)\n",
        "    df = df[(df['contract_type'] == 'F') & (df['isin'] == 'BR')]\n",
        "    if day == '20121002':\n",
        "        df.to_csv('COT_Brent/COT_Brent_Moex.csv', mode='a', header=True, index = False)\n",
        "    else:\n",
        "        df.to_csv('COT_Brent/COT_Brent_Moex.csv', mode='a', header=False, index = False)\n",
        "    ! rm *"
      ],
      "metadata": {
        "id": "wyp5fPxWn67E"
      },
      "execution_count": null,
      "outputs": []
    },
    {
      "cell_type": "code",
      "source": [
        "path = 'https://raw.githubusercontent.com/ArtemMaximov77/Analysis_of_traders_positions/\\\n",
        "main/Disaggregated%20Futures%20Only%20Reports/COT_Brent_Moex.csv'\n",
        "df_temp = pd.read_csv(path)"
      ],
      "metadata": {
        "id": "nzUQaOJ4j1d2"
      },
      "execution_count": 2,
      "outputs": []
    },
    {
      "cell_type": "code",
      "source": [
        "df_temp.info()"
      ],
      "metadata": {
        "id": "gsmVeaJQilyU"
      },
      "execution_count": null,
      "outputs": []
    },
    {
      "cell_type": "code",
      "source": [
        "df_brent_moex = pd.DataFrame()\n",
        "df_brent_moex['date'] = df_temp['moment'].drop_duplicates().reset_index(drop=True)\n",
        "df_brent_moex['fiz_long'] = df_temp[df_temp['iz_fiz'] == 1]['long_position']\\\n",
        "                          .reset_index(drop=True).astype(int)\n",
        "df_brent_moex['fiz_short'] = df_temp[df_temp['iz_fiz'] == 1]['short_position']\\\n",
        "                          .reset_index(drop=True).astype(int)\n",
        "df_brent_moex['yur_long'] = df_temp[df_temp['iz_fiz'] != 1]['long_position']\\\n",
        "                          .reset_index(drop=True).astype(int)\n",
        "df_brent_moex['yur_short'] = df_temp[df_temp['iz_fiz'] != 1]['short_position']\\\n",
        "                          .reset_index(drop=True).astype(int)\n",
        "df_brent_moex['oi'] = df_brent_moex['fiz_long'] + df_brent_moex['fiz_short']\\\n",
        "                    + df_brent_moex['yur_long'] + df_brent_moex['yur_short']\n",
        "df_brent_moex['date'] = pd.to_datetime(df_brent_moex['date'], format='%Y-%m-%d')"
      ],
      "metadata": {
        "id": "AYJXLr_1vDx0"
      },
      "execution_count": 32,
      "outputs": []
    },
    {
      "cell_type": "code",
      "source": [
        "df_brent_moex.head()"
      ],
      "metadata": {
        "colab": {
          "base_uri": "https://localhost:8080/",
          "height": 206
        },
        "id": "mMWMr5GzhRbO",
        "outputId": "2e6486f7-ab85-4e1c-82bb-afe247a2e409"
      },
      "execution_count": 33,
      "outputs": [
        {
          "output_type": "execute_result",
          "data": {
            "text/plain": [
              "        date  fiz_long  fiz_short  yur_long  yur_short     oi\n",
              "0 2012-10-02      4980      16082     14641       3539  39242\n",
              "1 2012-10-09      5844      18430     15581       2995  42850\n",
              "2 2012-10-16     26021      22998     13045      16068  78132\n",
              "3 2012-10-23     10301       5098     10987      16190  42576\n",
              "4 2012-10-30      8301       6239      4336       6398  25274"
            ],
            "text/html": [
              "\n",
              "  <div id=\"df-c13c553d-616a-4c81-9758-23580d580b42\">\n",
              "    <div class=\"colab-df-container\">\n",
              "      <div>\n",
              "<style scoped>\n",
              "    .dataframe tbody tr th:only-of-type {\n",
              "        vertical-align: middle;\n",
              "    }\n",
              "\n",
              "    .dataframe tbody tr th {\n",
              "        vertical-align: top;\n",
              "    }\n",
              "\n",
              "    .dataframe thead th {\n",
              "        text-align: right;\n",
              "    }\n",
              "</style>\n",
              "<table border=\"1\" class=\"dataframe\">\n",
              "  <thead>\n",
              "    <tr style=\"text-align: right;\">\n",
              "      <th></th>\n",
              "      <th>date</th>\n",
              "      <th>fiz_long</th>\n",
              "      <th>fiz_short</th>\n",
              "      <th>yur_long</th>\n",
              "      <th>yur_short</th>\n",
              "      <th>oi</th>\n",
              "    </tr>\n",
              "  </thead>\n",
              "  <tbody>\n",
              "    <tr>\n",
              "      <th>0</th>\n",
              "      <td>2012-10-02</td>\n",
              "      <td>4980</td>\n",
              "      <td>16082</td>\n",
              "      <td>14641</td>\n",
              "      <td>3539</td>\n",
              "      <td>39242</td>\n",
              "    </tr>\n",
              "    <tr>\n",
              "      <th>1</th>\n",
              "      <td>2012-10-09</td>\n",
              "      <td>5844</td>\n",
              "      <td>18430</td>\n",
              "      <td>15581</td>\n",
              "      <td>2995</td>\n",
              "      <td>42850</td>\n",
              "    </tr>\n",
              "    <tr>\n",
              "      <th>2</th>\n",
              "      <td>2012-10-16</td>\n",
              "      <td>26021</td>\n",
              "      <td>22998</td>\n",
              "      <td>13045</td>\n",
              "      <td>16068</td>\n",
              "      <td>78132</td>\n",
              "    </tr>\n",
              "    <tr>\n",
              "      <th>3</th>\n",
              "      <td>2012-10-23</td>\n",
              "      <td>10301</td>\n",
              "      <td>5098</td>\n",
              "      <td>10987</td>\n",
              "      <td>16190</td>\n",
              "      <td>42576</td>\n",
              "    </tr>\n",
              "    <tr>\n",
              "      <th>4</th>\n",
              "      <td>2012-10-30</td>\n",
              "      <td>8301</td>\n",
              "      <td>6239</td>\n",
              "      <td>4336</td>\n",
              "      <td>6398</td>\n",
              "      <td>25274</td>\n",
              "    </tr>\n",
              "  </tbody>\n",
              "</table>\n",
              "</div>\n",
              "      <button class=\"colab-df-convert\" onclick=\"convertToInteractive('df-c13c553d-616a-4c81-9758-23580d580b42')\"\n",
              "              title=\"Convert this dataframe to an interactive table.\"\n",
              "              style=\"display:none;\">\n",
              "        \n",
              "  <svg xmlns=\"http://www.w3.org/2000/svg\" height=\"24px\"viewBox=\"0 0 24 24\"\n",
              "       width=\"24px\">\n",
              "    <path d=\"M0 0h24v24H0V0z\" fill=\"none\"/>\n",
              "    <path d=\"M18.56 5.44l.94 2.06.94-2.06 2.06-.94-2.06-.94-.94-2.06-.94 2.06-2.06.94zm-11 1L8.5 8.5l.94-2.06 2.06-.94-2.06-.94L8.5 2.5l-.94 2.06-2.06.94zm10 10l.94 2.06.94-2.06 2.06-.94-2.06-.94-.94-2.06-.94 2.06-2.06.94z\"/><path d=\"M17.41 7.96l-1.37-1.37c-.4-.4-.92-.59-1.43-.59-.52 0-1.04.2-1.43.59L10.3 9.45l-7.72 7.72c-.78.78-.78 2.05 0 2.83L4 21.41c.39.39.9.59 1.41.59.51 0 1.02-.2 1.41-.59l7.78-7.78 2.81-2.81c.8-.78.8-2.07 0-2.86zM5.41 20L4 18.59l7.72-7.72 1.47 1.35L5.41 20z\"/>\n",
              "  </svg>\n",
              "      </button>\n",
              "      \n",
              "  <style>\n",
              "    .colab-df-container {\n",
              "      display:flex;\n",
              "      flex-wrap:wrap;\n",
              "      gap: 12px;\n",
              "    }\n",
              "\n",
              "    .colab-df-convert {\n",
              "      background-color: #E8F0FE;\n",
              "      border: none;\n",
              "      border-radius: 50%;\n",
              "      cursor: pointer;\n",
              "      display: none;\n",
              "      fill: #1967D2;\n",
              "      height: 32px;\n",
              "      padding: 0 0 0 0;\n",
              "      width: 32px;\n",
              "    }\n",
              "\n",
              "    .colab-df-convert:hover {\n",
              "      background-color: #E2EBFA;\n",
              "      box-shadow: 0px 1px 2px rgba(60, 64, 67, 0.3), 0px 1px 3px 1px rgba(60, 64, 67, 0.15);\n",
              "      fill: #174EA6;\n",
              "    }\n",
              "\n",
              "    [theme=dark] .colab-df-convert {\n",
              "      background-color: #3B4455;\n",
              "      fill: #D2E3FC;\n",
              "    }\n",
              "\n",
              "    [theme=dark] .colab-df-convert:hover {\n",
              "      background-color: #434B5C;\n",
              "      box-shadow: 0px 1px 3px 1px rgba(0, 0, 0, 0.15);\n",
              "      filter: drop-shadow(0px 1px 2px rgba(0, 0, 0, 0.3));\n",
              "      fill: #FFFFFF;\n",
              "    }\n",
              "  </style>\n",
              "\n",
              "      <script>\n",
              "        const buttonEl =\n",
              "          document.querySelector('#df-c13c553d-616a-4c81-9758-23580d580b42 button.colab-df-convert');\n",
              "        buttonEl.style.display =\n",
              "          google.colab.kernel.accessAllowed ? 'block' : 'none';\n",
              "\n",
              "        async function convertToInteractive(key) {\n",
              "          const element = document.querySelector('#df-c13c553d-616a-4c81-9758-23580d580b42');\n",
              "          const dataTable =\n",
              "            await google.colab.kernel.invokeFunction('convertToInteractive',\n",
              "                                                     [key], {});\n",
              "          if (!dataTable) return;\n",
              "\n",
              "          const docLinkHtml = 'Like what you see? Visit the ' +\n",
              "            '<a target=\"_blank\" href=https://colab.research.google.com/notebooks/data_table.ipynb>data table notebook</a>'\n",
              "            + ' to learn more about interactive tables.';\n",
              "          element.innerHTML = '';\n",
              "          dataTable['output_type'] = 'display_data';\n",
              "          await google.colab.output.renderOutput(dataTable, element);\n",
              "          const docLink = document.createElement('div');\n",
              "          docLink.innerHTML = docLinkHtml;\n",
              "          element.appendChild(docLink);\n",
              "        }\n",
              "      </script>\n",
              "    </div>\n",
              "  </div>\n",
              "  "
            ]
          },
          "metadata": {},
          "execution_count": 33
        }
      ]
    },
    {
      "cell_type": "code",
      "source": [
        "df_brent_moex.info()"
      ],
      "metadata": {
        "colab": {
          "base_uri": "https://localhost:8080/"
        },
        "id": "O42nfuptwr5t",
        "outputId": "0adfa674-b245-43a7-a495-af533838e164"
      },
      "execution_count": 49,
      "outputs": [
        {
          "output_type": "stream",
          "name": "stdout",
          "text": [
            "<class 'pandas.core.frame.DataFrame'>\n",
            "RangeIndex: 533 entries, 0 to 532\n",
            "Data columns (total 6 columns):\n",
            " #   Column     Non-Null Count  Dtype         \n",
            "---  ------     --------------  -----         \n",
            " 0   date       533 non-null    datetime64[ns]\n",
            " 1   fiz_long   533 non-null    int64         \n",
            " 2   fiz_short  533 non-null    int64         \n",
            " 3   yur_long   533 non-null    int64         \n",
            " 4   yur_short  533 non-null    int64         \n",
            " 5   oi         533 non-null    int64         \n",
            "dtypes: datetime64[ns](1), int64(5)\n",
            "memory usage: 25.1 KB\n"
          ]
        }
      ]
    },
    {
      "cell_type": "code",
      "source": [
        "# df_brent_moex.to_csv('data_brent_moex.csv')"
      ],
      "metadata": {
        "id": "FsJJfBxOrYKU"
      },
      "execution_count": 50,
      "outputs": []
    },
    {
      "cell_type": "markdown",
      "source": [
        "## Скачать готовые данные"
      ],
      "metadata": {
        "id": "7QXjdPwurOI6"
      }
    },
    {
      "cell_type": "code",
      "source": [
        "# data_wti = pd.read_csv('https://raw.githubusercontent.com/ArtemMaximov77/Analysis_of_traders_positions/main/Disaggregated%20Futures%20Only%20Reports/data_wti.csv')\n",
        "\n",
        "# data_brent = pd.read_csv('https://raw.githubusercontent.com/ArtemMaximov77/Analysis_of_traders_positions/main/Disaggregated%20Futures%20Only%20Reports/data_brent.csv')\n",
        "\n",
        "# data_brent_moex = pd.read_csv('https://raw.githubusercontent.com/ArtemMaximov77/Analysis_of_traders_positions/main/Disaggregated%20Futures%20Only%20Reports/data_brent_moex.csv')\n"
      ],
      "metadata": {
        "id": "THzBckGZ1r9F"
      },
      "execution_count": null,
      "outputs": []
    }
  ]
}