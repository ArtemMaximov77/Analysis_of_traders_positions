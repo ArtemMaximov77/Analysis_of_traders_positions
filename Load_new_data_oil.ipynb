{
  "nbformat": 4,
  "nbformat_minor": 0,
  "metadata": {
    "colab": {
      "provenance": [],
      "authorship_tag": "ABX9TyPvdD5C6rasgbcxL/7chwV7",
      "include_colab_link": true
    },
    "kernelspec": {
      "name": "python3",
      "display_name": "Python 3"
    },
    "language_info": {
      "name": "python"
    }
  },
  "cells": [
    {
      "cell_type": "markdown",
      "metadata": {
        "id": "view-in-github",
        "colab_type": "text"
      },
      "source": [
        "<a href=\"https://colab.research.google.com/github/ArtemMaximov77/Analysis_of_traders_positions/blob/main/Load_new_data_oil.ipynb\" target=\"_parent\"><img src=\"https://colab.research.google.com/assets/colab-badge.svg\" alt=\"Open In Colab\"/></a>"
      ]
    },
    {
      "cell_type": "markdown",
      "source": [
        "# Load new data oil"
      ],
      "metadata": {
        "id": "1TjYW0Liak7v"
      }
    },
    {
      "cell_type": "markdown",
      "source": [
        ">[Load new data oil](#updateTitle=true&folderId=1GFmu1E8fVIBU67PVByCqoyV0FHqrUa-b&scrollTo=1TjYW0Liak7v)\n",
        "\n",
        ">>[Загрузка новых данных по WTI](#updateTitle=true&folderId=1GFmu1E8fVIBU67PVByCqoyV0FHqrUa-b&scrollTo=zzfCP1IuZmVn)\n",
        "\n",
        ">>[Загрузка новых данных по Brent](#updateTitle=true&folderId=1GFmu1E8fVIBU67PVByCqoyV0FHqrUa-b&scrollTo=MDFYsbVheOsy)\n",
        "\n",
        ">>[Загрузка новых данных с MOEX](#updateTitle=true&folderId=1GFmu1E8fVIBU67PVByCqoyV0FHqrUa-b&scrollTo=xrANMacpn7in)\n",
        "\n"
      ],
      "metadata": {
        "colab_type": "toc",
        "id": "o2rcV2mOaLKC"
      }
    },
    {
      "cell_type": "code",
      "execution_count": 1,
      "metadata": {
        "id": "PkBhQxURM_Ju"
      },
      "outputs": [],
      "source": [
        "import pandas as pd"
      ]
    },
    {
      "cell_type": "markdown",
      "source": [
        "## Загрузка новых данных по WTI"
      ],
      "metadata": {
        "id": "zzfCP1IuZmVn"
      }
    },
    {
      "cell_type": "code",
      "source": [
        "data_wti = pd.read_csv('https://raw.githubusercontent.com/ArtemMaximov77/Analysis_of_traders_positions/main/Disaggregated%20Futures%20Only%20Reports/data_wti.csv')\n"
      ],
      "metadata": {
        "id": "WVMOBowmNR0m"
      },
      "execution_count": 2,
      "outputs": []
    },
    {
      "cell_type": "code",
      "source": [
        "# Последняя дата в данных\n",
        "last_date = data_wti['date'].iloc[-1]"
      ],
      "metadata": {
        "id": "8jlpUGajNSDN"
      },
      "execution_count": 3,
      "outputs": []
    },
    {
      "cell_type": "code",
      "source": [
        "url_zip = 'https://www.cftc.gov/files/dea/history/fut_disagg_xls_2023.zip'\n",
        "!wget $url_zip\n",
        "url_unzip = '/content/fut_disagg_xls_2023.zip'\n",
        "!unzip $url_unzip\n",
        "df = pd.read_excel('f_year.xls')"
      ],
      "metadata": {
        "id": "ghUZMHBcN_CF"
      },
      "execution_count": null,
      "outputs": []
    },
    {
      "cell_type": "code",
      "source": [
        "df_wti = df[(df['CFTC_Contract_Market_Code'] == '067651') & (df['Report_Date_as_MM_DD_YYYY'] > last_date)]\n",
        "df_wti = df_wti.drop(df.iloc[:, 23:], axis=1)\n",
        "df_wti = df_wti.drop(['Market_and_Exchange_Names', 'As_of_Date_In_Form_YYMMDD',\n",
        "                  'CFTC_Contract_Market_Code', 'CFTC_Market_Code', 'CFTC_Region_Code',\n",
        "                  'CFTC_Commodity_Code', 'Tot_Rept_Positions_Long_All',\n",
        "                  'Tot_Rept_Positions_Short_All'], axis=1)\n",
        "df_wti = df_wti.sort_values('Report_Date_as_MM_DD_YYYY')"
      ],
      "metadata": {
        "id": "At48u7YbRDVO"
      },
      "execution_count": 5,
      "outputs": []
    },
    {
      "cell_type": "code",
      "source": [
        "columns = ['date', 'oi', 'prod_merc_long', 'prod_merc_short', 'swap_long',\n",
        "           'swap_short', 'swap_spread', 'm_money_long', 'm_money_short',\n",
        "           'm_money_spread', 'other_rept_long', 'other_rept_short',\n",
        "           'other_rept_spread', 'nonrept_long', 'nonrept_short']\n",
        "\n",
        "df_wti.columns = columns"
      ],
      "metadata": {
        "id": "_5lgcYgVgKT5"
      },
      "execution_count": 6,
      "outputs": []
    },
    {
      "cell_type": "code",
      "source": [
        "url_wti_price = 'https://www.eia.gov/dnav/pet/hist_xls/RWTCd.xls'\n",
        "!wget $url_wti_price"
      ],
      "metadata": {
        "id": "-XN-gil9awGW"
      },
      "execution_count": null,
      "outputs": []
    },
    {
      "cell_type": "code",
      "source": [
        "df_price = pd.read_excel('RWTCd.xls', sheet_name='Data 1', skiprows=[0, 1], names=['date', 'price_wti'])"
      ],
      "metadata": {
        "id": "2gL6XMqIbJtH"
      },
      "execution_count": 8,
      "outputs": []
    },
    {
      "cell_type": "code",
      "source": [
        "df_price = df_price[df_price['date'] > last_date]"
      ],
      "metadata": {
        "id": "4GLmFSuQbhXr"
      },
      "execution_count": 9,
      "outputs": []
    },
    {
      "cell_type": "code",
      "source": [
        "data_wti_temp = df_wti.merge(df_price, on='date')\n",
        "data_wti_temp['date'] = data_wti_temp['date'].astype('str')"
      ],
      "metadata": {
        "id": "6dhAiuiNgyoT"
      },
      "execution_count": 10,
      "outputs": []
    },
    {
      "cell_type": "code",
      "source": [
        "data_wti = pd.concat([data_wti, data_wti_temp], ignore_index=True)"
      ],
      "metadata": {
        "id": "5pjX06oCuIUz"
      },
      "execution_count": 11,
      "outputs": []
    },
    {
      "cell_type": "code",
      "source": [
        "data_wti.to_csv('data_wti.csv')"
      ],
      "metadata": {
        "id": "_uBcuwBoZMPK"
      },
      "execution_count": 12,
      "outputs": []
    },
    {
      "cell_type": "markdown",
      "source": [
        "## Загрузка новых данных по Brent"
      ],
      "metadata": {
        "id": "MDFYsbVheOsy"
      }
    },
    {
      "cell_type": "code",
      "source": [
        "data_brent = pd.read_csv('https://raw.githubusercontent.com/ArtemMaximov77/Analysis_of_traders_positions/main/Disaggregated%20Futures%20Only%20Reports/data_brent.csv')"
      ],
      "metadata": {
        "id": "6exHhZOZl4FT"
      },
      "execution_count": 13,
      "outputs": []
    },
    {
      "cell_type": "code",
      "source": [
        "url = 'https://www.theice.com/publicdocs/futures/COTHist2023.csv'\n",
        "! wget $url\n",
        "path = 'COTHist2023.csv'\n",
        "df = pd.read_csv(path)\n",
        "df_brent = df[(df['CFTC_Commodity_Code'] == 'B') & (df['FutOnly_or_Combined'] == 'FutOnly')]\n",
        "df_brent = df_brent.drop(df.iloc[:, 23:], axis=1)\n",
        "df_brent = df_brent.drop(['Market_and_Exchange_Names', 'As_of_Date_Form_MM/DD/YYYY',\n",
        "                      'CFTC_Contract_Market_Code', 'CFTC_Market_Code', 'CFTC_Region_Code',\n",
        "                      'CFTC_Commodity_Code', 'Tot_Rept_Positions_Long_All',\n",
        "                      'Tot_Rept_Positions_Short_All'], axis=1)"
      ],
      "metadata": {
        "id": "Ju2t_-WuZMMZ"
      },
      "execution_count": null,
      "outputs": []
    },
    {
      "cell_type": "code",
      "source": [
        "df_brent.columns = columns\n",
        "df_brent['date'] = pd.to_datetime(df_brent['date'], format='%y%m%d')\n",
        "df_brent = df_brent[df_brent['date'] > last_date]"
      ],
      "metadata": {
        "id": "otExCFj5fDlU"
      },
      "execution_count": 15,
      "outputs": []
    },
    {
      "cell_type": "code",
      "source": [
        "url_brent_price = 'https://www.eia.gov/dnav/pet/hist_xls/RBRTEd.xls'\n",
        "!wget $url_brent_price"
      ],
      "metadata": {
        "id": "vu1yL64igPCj"
      },
      "execution_count": null,
      "outputs": []
    },
    {
      "cell_type": "code",
      "source": [
        "df_price_br = pd.read_excel('RBRTEd.xls', sheet_name='Data 1', skiprows=[0, 1], names=['date', 'price_brent'])"
      ],
      "metadata": {
        "id": "GAs1bdv_hGC2"
      },
      "execution_count": 17,
      "outputs": []
    },
    {
      "cell_type": "code",
      "source": [
        "df_price_br = df_price_br[df_price_br['date'] > last_date]"
      ],
      "metadata": {
        "id": "lXYRnM8xhFzi"
      },
      "execution_count": 18,
      "outputs": []
    },
    {
      "cell_type": "code",
      "source": [
        "data_br_temp = df_brent.merge(df_price_br, on='date')\n",
        "data_br_temp['date'] = data_br_temp['date'].astype('str')"
      ],
      "metadata": {
        "id": "-vTIVHwDhFwN"
      },
      "execution_count": 19,
      "outputs": []
    },
    {
      "cell_type": "code",
      "source": [
        "data_brent = pd.concat([data_brent, data_br_temp], ignore_index=True)"
      ],
      "metadata": {
        "id": "yuSzYRygjWPv"
      },
      "execution_count": 20,
      "outputs": []
    },
    {
      "cell_type": "code",
      "source": [
        "data_brent.to_csv('data_brent.csv')"
      ],
      "metadata": {
        "id": "-PXVMApMZMAn"
      },
      "execution_count": 21,
      "outputs": []
    },
    {
      "cell_type": "markdown",
      "source": [
        "## Загрузка новых данных с MOEX"
      ],
      "metadata": {
        "id": "xrANMacpn7in"
      }
    },
    {
      "cell_type": "code",
      "source": [
        "data_brent_moex = pd.read_csv('https://raw.githubusercontent.com/ArtemMaximov77/Analysis_of_traders_positions/main/Disaggregated%20Futures%20Only%20Reports/data_brent_moex.csv')"
      ],
      "metadata": {
        "id": "AVRbpSImqlgx"
      },
      "execution_count": 22,
      "outputs": []
    },
    {
      "cell_type": "code",
      "source": [
        "calendar = data_brent[data_brent['date'] > last_date]['date']\n",
        "calendar = calendar.astype('str').str.replace('-', '').to_list()"
      ],
      "metadata": {
        "id": "WcGVcgmybaXd"
      },
      "execution_count": 23,
      "outputs": []
    },
    {
      "cell_type": "code",
      "source": [
        "for day in calendar:\n",
        "    url = f'https://www.moex.com/ru/derivatives/open-positions-csv.aspx?d={day}&t=1'\n",
        "    ! wget $url\n",
        "    path = f'open-positions-csv.aspx?d={day}'\n",
        "    df = pd.read_csv(path)\n",
        "    df = df[(df['contract_type'] == 'F') & (df['isin'] == 'BR')]\n",
        "    if day == calendar[0]:\n",
        "        df.to_csv('COT_Brent_Moex.csv', mode='a', header=True, index = False)\n",
        "    else:\n",
        "        df.to_csv('COT_Brent_Moex.csv', mode='a', header=False, index = False)"
      ],
      "metadata": {
        "id": "Dxn8opIco8yC"
      },
      "execution_count": null,
      "outputs": []
    },
    {
      "cell_type": "code",
      "source": [
        "df_temp = pd.read_csv('COT_Brent_Moex.csv')"
      ],
      "metadata": {
        "id": "GtAt8TGopYZx"
      },
      "execution_count": 25,
      "outputs": []
    },
    {
      "cell_type": "code",
      "source": [
        "df_brent_moex = pd.DataFrame()\n",
        "df_brent_moex['date'] = df_temp['moment'].drop_duplicates().reset_index(drop=True)\n",
        "df_brent_moex['fiz_long'] = df_temp[df_temp['iz_fiz'] == 1]['long_position']\\\n",
        "                          .reset_index(drop=True).astype(int)\n",
        "df_brent_moex['fiz_short'] = df_temp[df_temp['iz_fiz'] == 1]['short_position']\\\n",
        "                          .reset_index(drop=True).astype(int)\n",
        "df_brent_moex['yur_long'] = df_temp[df_temp['iz_fiz'] != 1]['long_position']\\\n",
        "                          .reset_index(drop=True).astype(int)\n",
        "df_brent_moex['yur_short'] = df_temp[df_temp['iz_fiz'] != 1]['short_position']\\\n",
        "                          .reset_index(drop=True).astype(int)\n",
        "df_brent_moex['oi'] = df_brent_moex['fiz_long'] + df_brent_moex['fiz_short']\\\n",
        "                    + df_brent_moex['yur_long'] + df_brent_moex['yur_short']\n",
        "df_brent_moex['date'] = pd.to_datetime(df_brent_moex['date'], format='%Y-%m-%d')\n",
        "\n",
        "df_brent_moex['date'] = df_brent_moex['date'].astype('str')\n"
      ],
      "metadata": {
        "id": "UWMPqnX5pYWY"
      },
      "execution_count": 26,
      "outputs": []
    },
    {
      "cell_type": "code",
      "source": [
        "data_brent_moex = pd.concat([data_brent_moex, df_brent_moex], ignore_index=True)"
      ],
      "metadata": {
        "id": "iAo_MtCxpYT8"
      },
      "execution_count": 27,
      "outputs": []
    },
    {
      "cell_type": "code",
      "source": [
        "data_brent_moex.to_csv('data_brent_moex.csv')"
      ],
      "metadata": {
        "id": "QL18OpKZpYRj"
      },
      "execution_count": 28,
      "outputs": []
    }
  ]
}